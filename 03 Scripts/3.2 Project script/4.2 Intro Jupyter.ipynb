{
 "cells": [
  {
   "cell_type": "markdown",
   "id": "96a25ad0",
   "metadata": {},
   "source": [
    "# 1. Import Libraries"
   ]
  },
  {
   "cell_type": "code",
   "execution_count": 1,
   "id": "6848e195",
   "metadata": {},
   "outputs": [],
   "source": [
    "# Import libraries \n",
    "import pandas as pd\n",
    "import numpy as np\n",
    "import os"
   ]
  },
  {
   "cell_type": "markdown",
   "id": "29dc0ff8",
   "metadata": {},
   "source": [
    "## Data types"
   ]
  },
  {
   "cell_type": "code",
   "execution_count": 2,
   "id": "c6c4ed2f",
   "metadata": {},
   "outputs": [],
   "source": [
    "x = 10"
   ]
  },
  {
   "cell_type": "code",
   "execution_count": 3,
   "id": "392287e8",
   "metadata": {},
   "outputs": [],
   "source": [
    "y = 50"
   ]
  },
  {
   "cell_type": "code",
   "execution_count": 4,
   "id": "0054f5de",
   "metadata": {},
   "outputs": [
    {
     "data": {
      "text/plain": [
       "100"
      ]
     },
     "execution_count": 4,
     "metadata": {},
     "output_type": "execute_result"
    }
   ],
   "source": [
    "y + y"
   ]
  },
  {
   "cell_type": "code",
   "execution_count": 5,
   "id": "e5fc3952",
   "metadata": {},
   "outputs": [
    {
     "data": {
      "text/plain": [
       "100"
      ]
     },
     "execution_count": 5,
     "metadata": {},
     "output_type": "execute_result"
    }
   ],
   "source": [
    "110 - x"
   ]
  },
  {
   "cell_type": "code",
   "execution_count": 6,
   "id": "4924cdb7",
   "metadata": {},
   "outputs": [
    {
     "data": {
      "text/plain": [
       "100"
      ]
     },
     "execution_count": 6,
     "metadata": {},
     "output_type": "execute_result"
    }
   ],
   "source": [
    "x + x +80"
   ]
  },
  {
   "cell_type": "code",
   "execution_count": 7,
   "id": "df49662d",
   "metadata": {},
   "outputs": [],
   "source": [
    "a = 2.5"
   ]
  },
  {
   "cell_type": "code",
   "execution_count": 8,
   "id": "6b50d930",
   "metadata": {},
   "outputs": [],
   "source": [
    "b = 1.25"
   ]
  },
  {
   "cell_type": "code",
   "execution_count": 12,
   "id": "c3b37060",
   "metadata": {},
   "outputs": [
    {
     "data": {
      "text/plain": [
       "2.0"
      ]
     },
     "execution_count": 12,
     "metadata": {},
     "output_type": "execute_result"
    }
   ],
   "source": [
    "a/b"
   ]
  },
  {
   "cell_type": "code",
   "execution_count": 14,
   "id": "1dd6e60c",
   "metadata": {},
   "outputs": [],
   "source": [
    "h = 'h'"
   ]
  },
  {
   "cell_type": "code",
   "execution_count": 15,
   "id": "64821b2f",
   "metadata": {},
   "outputs": [],
   "source": [
    "e = 'e'"
   ]
  },
  {
   "cell_type": "code",
   "execution_count": 16,
   "id": "d7028d27",
   "metadata": {},
   "outputs": [],
   "source": [
    "l = 'l'"
   ]
  },
  {
   "cell_type": "code",
   "execution_count": 17,
   "id": "043739d3",
   "metadata": {},
   "outputs": [],
   "source": [
    "o ='o'"
   ]
  },
  {
   "cell_type": "code",
   "execution_count": 19,
   "id": "6812f31b",
   "metadata": {},
   "outputs": [
    {
     "data": {
      "text/plain": [
       "'hello'"
      ]
     },
     "execution_count": 19,
     "metadata": {},
     "output_type": "execute_result"
    }
   ],
   "source": [
    "h + e + l + l + o"
   ]
  },
  {
   "cell_type": "code",
   "execution_count": 20,
   "id": "ba150a30",
   "metadata": {},
   "outputs": [],
   "source": [
    "c = 'Hello, '"
   ]
  },
  {
   "cell_type": "code",
   "execution_count": 26,
   "id": "7eadfb8e",
   "metadata": {},
   "outputs": [],
   "source": [
    "d = 'my name is Tatiana. '"
   ]
  },
  {
   "cell_type": "code",
   "execution_count": 22,
   "id": "e08bc819",
   "metadata": {},
   "outputs": [],
   "source": [
    "e = 'What is'"
   ]
  },
  {
   "cell_type": "code",
   "execution_count": 23,
   "id": "fa063cb5",
   "metadata": {},
   "outputs": [],
   "source": [
    "f = 'your name?'"
   ]
  },
  {
   "cell_type": "code",
   "execution_count": 27,
   "id": "edad2f85",
   "metadata": {},
   "outputs": [
    {
     "data": {
      "text/plain": [
       "'Hello, my name is Tatiana. What isyour name?'"
      ]
     },
     "execution_count": 27,
     "metadata": {},
     "output_type": "execute_result"
    }
   ],
   "source": [
    "c + d + e + f"
   ]
  },
  {
   "cell_type": "code",
   "execution_count": 28,
   "id": "ab47f300",
   "metadata": {},
   "outputs": [
    {
     "data": {
      "text/plain": [
       "'Hello, Hello, Hello, Hello, Hello, Hello, Hello, Hello, Hello, Hello, Hello, Hello, Hello, Hello, Hello, Hello, Hello, Hello, Hello, Hello, Hello, Hello, Hello, Hello, Hello, Hello, Hello, Hello, Hello, Hello, Hello, Hello, Hello, Hello, Hello, Hello, Hello, Hello, Hello, Hello, Hello, Hello, Hello, Hello, Hello, Hello, Hello, Hello, Hello, Hello, Hello, Hello, Hello, Hello, Hello, Hello, Hello, Hello, Hello, Hello, Hello, Hello, Hello, Hello, Hello, Hello, Hello, Hello, Hello, Hello, Hello, Hello, Hello, Hello, Hello, Hello, Hello, Hello, Hello, Hello, Hello, Hello, Hello, Hello, Hello, Hello, Hello, Hello, Hello, Hello, Hello, Hello, Hello, Hello, Hello, Hello, Hello, Hello, Hello, Hello, '"
      ]
     },
     "execution_count": 28,
     "metadata": {},
     "output_type": "execute_result"
    }
   ],
   "source": [
    "c*100"
   ]
  },
  {
   "cell_type": "code",
   "execution_count": null,
   "id": "a28714e8",
   "metadata": {},
   "outputs": [],
   "source": []
  }
 ],
 "metadata": {
  "kernelspec": {
   "display_name": "Python 3 (ipykernel)",
   "language": "python",
   "name": "python3"
  },
  "language_info": {
   "codemirror_mode": {
    "name": "ipython",
    "version": 3
   },
   "file_extension": ".py",
   "mimetype": "text/x-python",
   "name": "python",
   "nbconvert_exporter": "python",
   "pygments_lexer": "ipython3",
   "version": "3.10.9"
  }
 },
 "nbformat": 4,
 "nbformat_minor": 5
}
