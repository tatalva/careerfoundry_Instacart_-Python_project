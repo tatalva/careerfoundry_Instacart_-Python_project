{
 "cells": [
  {
   "cell_type": "markdown",
   "id": "38496f85",
   "metadata": {},
   "source": [
    "## Content List\n",
    "1. Import libraries\n",
    "2. Create project path\n",
    "3. Import file and check structure\n",
    "4. Create profile for Age groups\n",
    "5. Create profile for income groups\n",
    "6. Import and merge deparments and check for high demand\n",
    "7. Create profile for dependants\n",
    "8. Export file"
   ]
  },
  {
   "cell_type": "code",
   "execution_count": 1,
   "id": "df2a8245",
   "metadata": {},
   "outputs": [],
   "source": [
    "#import all libraries including visualization\n",
    "import pandas as pd\n",
    "import numpy as np\n",
    "import os\n",
    "import matplotlib.pyplot as plt\n",
    "import seaborn as sns\n",
    "import scipy"
   ]
  },
  {
   "cell_type": "code",
   "execution_count": 2,
   "id": "8ab838af",
   "metadata": {},
   "outputs": [],
   "source": [
    "# Create path to project folder\n",
    "path = r'C:\\Users\\tatal\\06-2023 Instacart Basket Analysis'"
   ]
  },
  {
   "cell_type": "code",
   "execution_count": 3,
   "id": "a2daec90",
   "metadata": {},
   "outputs": [],
   "source": [
    "#IMPORT mereged product_customer file\n",
    "df_order_customer_prd_high = pd.read_pickle(os.path.join(path, '02 Data', 'Prepared Data', 'full_file_v4.pkl'))"
   ]
  },
  {
   "cell_type": "code",
   "execution_count": 4,
   "id": "336a3fe1",
   "metadata": {},
   "outputs": [
    {
     "data": {
      "text/plain": [
       "(30964564, 36)"
      ]
     },
     "execution_count": 4,
     "metadata": {},
     "output_type": "execute_result"
    }
   ],
   "source": [
    "df_order_customer_prd_high.shape"
   ]
  },
  {
   "cell_type": "code",
   "execution_count": 5,
   "id": "8895c6c2",
   "metadata": {},
   "outputs": [
    {
     "data": {
      "text/plain": [
       "index                       int64\n",
       "user_id                     int32\n",
       "Gender                     object\n",
       "STATE                      object\n",
       "Age                         int16\n",
       "date_joined                object\n",
       "n_dependants                 int8\n",
       "fam_status                 object\n",
       "income                      int32\n",
       "order_id                    int32\n",
       "order_number                int16\n",
       "orders_day_of_week           int8\n",
       "order_hour_of_day            int8\n",
       "days_since_last_order     float32\n",
       "product_id                  int16\n",
       "add_to_cart_order           int16\n",
       "reordered                    int8\n",
       "product_name               object\n",
       "aisle_id                    int16\n",
       "department_id                int8\n",
       "prices                    float32\n",
       "price_range_loc            object\n",
       "busiest_day                object\n",
       "Busiest_days               object\n",
       "busiest_period_of_day      object\n",
       "max_order                   int16\n",
       "loyalty_flag               object\n",
       "mean_price                float32\n",
       "spending_flag              object\n",
       "median_days_last_order    float32\n",
       "frequency_flag             object\n",
       "region                     object\n",
       "customer_activity          object\n",
       "age_group                  object\n",
       "income_group               object\n",
       "department                 object\n",
       "dtype: object"
      ]
     },
     "execution_count": 5,
     "metadata": {},
     "output_type": "execute_result"
    }
   ],
   "source": [
    "df_order_customer_prd_high.dtypes"
   ]
  },
  {
   "cell_type": "code",
   "execution_count": 6,
   "id": "b3b38287",
   "metadata": {},
   "outputs": [
    {
     "data": {
      "text/html": [
       "<div>\n",
       "<style scoped>\n",
       "    .dataframe tbody tr th:only-of-type {\n",
       "        vertical-align: middle;\n",
       "    }\n",
       "\n",
       "    .dataframe tbody tr th {\n",
       "        vertical-align: top;\n",
       "    }\n",
       "\n",
       "    .dataframe thead th {\n",
       "        text-align: right;\n",
       "    }\n",
       "</style>\n",
       "<table border=\"1\" class=\"dataframe\">\n",
       "  <thead>\n",
       "    <tr style=\"text-align: right;\">\n",
       "      <th></th>\n",
       "      <th>index</th>\n",
       "      <th>user_id</th>\n",
       "      <th>Gender</th>\n",
       "      <th>STATE</th>\n",
       "      <th>Age</th>\n",
       "      <th>date_joined</th>\n",
       "      <th>n_dependants</th>\n",
       "      <th>fam_status</th>\n",
       "      <th>income</th>\n",
       "      <th>order_id</th>\n",
       "      <th>...</th>\n",
       "      <th>Busiest_days</th>\n",
       "      <th>busiest_period_of_day</th>\n",
       "      <th>max_order</th>\n",
       "      <th>loyalty_flag</th>\n",
       "      <th>mean_price</th>\n",
       "      <th>spending_flag</th>\n",
       "      <th>median_days_last_order</th>\n",
       "      <th>frequency_flag</th>\n",
       "      <th>region</th>\n",
       "      <th>customer_activity</th>\n",
       "    </tr>\n",
       "  </thead>\n",
       "  <tbody>\n",
       "    <tr>\n",
       "      <th>0</th>\n",
       "      <td>0</td>\n",
       "      <td>26711</td>\n",
       "      <td>Female</td>\n",
       "      <td>Missouri</td>\n",
       "      <td>48</td>\n",
       "      <td>1/1/2017</td>\n",
       "      <td>3</td>\n",
       "      <td>married</td>\n",
       "      <td>165665</td>\n",
       "      <td>2543867</td>\n",
       "      <td>...</td>\n",
       "      <td>Busiest days</td>\n",
       "      <td>most orders</td>\n",
       "      <td>8</td>\n",
       "      <td>New customer</td>\n",
       "      <td>7.988889</td>\n",
       "      <td>Low spender</td>\n",
       "      <td>19.0</td>\n",
       "      <td>Regular customer</td>\n",
       "      <td>Midwest</td>\n",
       "      <td>High-activity</td>\n",
       "    </tr>\n",
       "    <tr>\n",
       "      <th>1</th>\n",
       "      <td>1</td>\n",
       "      <td>26711</td>\n",
       "      <td>Female</td>\n",
       "      <td>Missouri</td>\n",
       "      <td>48</td>\n",
       "      <td>1/1/2017</td>\n",
       "      <td>3</td>\n",
       "      <td>married</td>\n",
       "      <td>165665</td>\n",
       "      <td>1285508</td>\n",
       "      <td>...</td>\n",
       "      <td>Regularly busy days</td>\n",
       "      <td>most orders</td>\n",
       "      <td>8</td>\n",
       "      <td>New customer</td>\n",
       "      <td>7.988889</td>\n",
       "      <td>Low spender</td>\n",
       "      <td>19.0</td>\n",
       "      <td>Regular customer</td>\n",
       "      <td>Midwest</td>\n",
       "      <td>High-activity</td>\n",
       "    </tr>\n",
       "    <tr>\n",
       "      <th>2</th>\n",
       "      <td>2</td>\n",
       "      <td>26711</td>\n",
       "      <td>Female</td>\n",
       "      <td>Missouri</td>\n",
       "      <td>48</td>\n",
       "      <td>1/1/2017</td>\n",
       "      <td>3</td>\n",
       "      <td>married</td>\n",
       "      <td>165665</td>\n",
       "      <td>2578584</td>\n",
       "      <td>...</td>\n",
       "      <td>Busiest days</td>\n",
       "      <td>most orders</td>\n",
       "      <td>8</td>\n",
       "      <td>New customer</td>\n",
       "      <td>7.988889</td>\n",
       "      <td>Low spender</td>\n",
       "      <td>19.0</td>\n",
       "      <td>Regular customer</td>\n",
       "      <td>Midwest</td>\n",
       "      <td>High-activity</td>\n",
       "    </tr>\n",
       "    <tr>\n",
       "      <th>3</th>\n",
       "      <td>3</td>\n",
       "      <td>26711</td>\n",
       "      <td>Female</td>\n",
       "      <td>Missouri</td>\n",
       "      <td>48</td>\n",
       "      <td>1/1/2017</td>\n",
       "      <td>3</td>\n",
       "      <td>married</td>\n",
       "      <td>165665</td>\n",
       "      <td>423547</td>\n",
       "      <td>...</td>\n",
       "      <td>Regularly busy days</td>\n",
       "      <td>most orders</td>\n",
       "      <td>8</td>\n",
       "      <td>New customer</td>\n",
       "      <td>7.988889</td>\n",
       "      <td>Low spender</td>\n",
       "      <td>19.0</td>\n",
       "      <td>Regular customer</td>\n",
       "      <td>Midwest</td>\n",
       "      <td>High-activity</td>\n",
       "    </tr>\n",
       "    <tr>\n",
       "      <th>4</th>\n",
       "      <td>4</td>\n",
       "      <td>26711</td>\n",
       "      <td>Female</td>\n",
       "      <td>Missouri</td>\n",
       "      <td>48</td>\n",
       "      <td>1/1/2017</td>\n",
       "      <td>3</td>\n",
       "      <td>married</td>\n",
       "      <td>165665</td>\n",
       "      <td>2524893</td>\n",
       "      <td>...</td>\n",
       "      <td>Least busy days</td>\n",
       "      <td>most orders</td>\n",
       "      <td>8</td>\n",
       "      <td>New customer</td>\n",
       "      <td>7.988889</td>\n",
       "      <td>Low spender</td>\n",
       "      <td>19.0</td>\n",
       "      <td>Regular customer</td>\n",
       "      <td>Midwest</td>\n",
       "      <td>High-activity</td>\n",
       "    </tr>\n",
       "  </tbody>\n",
       "</table>\n",
       "<p>5 rows × 33 columns</p>\n",
       "</div>"
      ],
      "text/plain": [
       "   index  user_id  Gender     STATE  Age date_joined  n_dependants fam_status  \\\n",
       "0      0    26711  Female  Missouri   48    1/1/2017             3    married   \n",
       "1      1    26711  Female  Missouri   48    1/1/2017             3    married   \n",
       "2      2    26711  Female  Missouri   48    1/1/2017             3    married   \n",
       "3      3    26711  Female  Missouri   48    1/1/2017             3    married   \n",
       "4      4    26711  Female  Missouri   48    1/1/2017             3    married   \n",
       "\n",
       "   income  order_id  ...         Busiest_days  busiest_period_of_day  \\\n",
       "0  165665   2543867  ...         Busiest days            most orders   \n",
       "1  165665   1285508  ...  Regularly busy days            most orders   \n",
       "2  165665   2578584  ...         Busiest days            most orders   \n",
       "3  165665    423547  ...  Regularly busy days            most orders   \n",
       "4  165665   2524893  ...      Least busy days            most orders   \n",
       "\n",
       "   max_order  loyalty_flag  mean_price  spending_flag  median_days_last_order  \\\n",
       "0          8  New customer    7.988889    Low spender                    19.0   \n",
       "1          8  New customer    7.988889    Low spender                    19.0   \n",
       "2          8  New customer    7.988889    Low spender                    19.0   \n",
       "3          8  New customer    7.988889    Low spender                    19.0   \n",
       "4          8  New customer    7.988889    Low spender                    19.0   \n",
       "\n",
       "     frequency_flag   region  customer_activity  \n",
       "0  Regular customer  Midwest      High-activity  \n",
       "1  Regular customer  Midwest      High-activity  \n",
       "2  Regular customer  Midwest      High-activity  \n",
       "3  Regular customer  Midwest      High-activity  \n",
       "4  Regular customer  Midwest      High-activity  \n",
       "\n",
       "[5 rows x 33 columns]"
      ]
     },
     "execution_count": 6,
     "metadata": {},
     "output_type": "execute_result"
    }
   ],
   "source": [
    "df_order_customer_prd_high.head(5)"
   ]
  },
  {
   "cell_type": "markdown",
   "id": "22bc0cf7",
   "metadata": {},
   "source": [
    "## Create Age groups"
   ]
  },
  {
   "cell_type": "code",
   "execution_count": 7,
   "id": "c56605ec",
   "metadata": {},
   "outputs": [
    {
     "data": {
      "text/plain": [
       "79    508337\n",
       "49    507879\n",
       "48    506730\n",
       "31    506218\n",
       "64    504832\n",
       "       ...  \n",
       "60    461897\n",
       "36    460649\n",
       "66    454604\n",
       "41    451269\n",
       "25    449324\n",
       "Name: Age, Length: 64, dtype: int64"
      ]
     },
     "execution_count": 7,
     "metadata": {},
     "output_type": "execute_result"
    }
   ],
   "source": [
    "df_order_customer_prd_high['Age'].value_counts()"
   ]
  },
  {
   "cell_type": "code",
   "execution_count": 15,
   "id": "648944ef",
   "metadata": {},
   "outputs": [
    {
     "data": {
      "text/plain": [
       "count    3.096456e+07\n",
       "mean     4.946803e+01\n",
       "std      1.848528e+01\n",
       "min      1.800000e+01\n",
       "25%      3.300000e+01\n",
       "50%      4.900000e+01\n",
       "75%      6.500000e+01\n",
       "max      8.100000e+01\n",
       "Name: Age, dtype: float64"
      ]
     },
     "execution_count": 15,
     "metadata": {},
     "output_type": "execute_result"
    }
   ],
   "source": [
    "df_order_customer_prd_high['Age'].describe()"
   ]
  },
  {
   "cell_type": "code",
   "execution_count": 47,
   "id": "2f7f00ca",
   "metadata": {},
   "outputs": [
    {
     "data": {
      "text/plain": [
       "max     81.000000\n",
       "min     18.000000\n",
       "mean    49.468026\n",
       "Name: Age, dtype: float64"
      ]
     },
     "execution_count": 47,
     "metadata": {},
     "output_type": "execute_result"
    }
   ],
   "source": [
    "df_order_customer_prd_high['Age'].agg([max, min, 'mean'])"
   ]
  },
  {
   "cell_type": "code",
   "execution_count": 22,
   "id": "7a65a945",
   "metadata": {},
   "outputs": [],
   "source": [
    "# Create a column for age groupe - young adult is less or equl to 25\n",
    "df_order_customer_prd_high.loc[df_order_customer_prd_high['Age'] <= 25, 'age_group'] = 'Young Adult'"
   ]
  },
  {
   "cell_type": "code",
   "execution_count": 23,
   "id": "dbd8eceb",
   "metadata": {},
   "outputs": [],
   "source": [
    "# Create a column for age groupe - adult is more than 25 and less than 40 - Adult\n",
    "df_order_customer_prd_high.loc[(df_order_customer_prd_high['Age'] > 25) & (df_order_customer_prd_high['Age'] < 40), 'age_group'] = 'Adult'"
   ]
  },
  {
   "cell_type": "code",
   "execution_count": 24,
   "id": "d5c5829e",
   "metadata": {},
   "outputs": [],
   "source": [
    "# Create a column for age groupe - adult is more than or equal 40 and less than 60 - Middle Age\n",
    "df_order_customer_prd_high.loc[(df_order_customer_prd_high['Age'] >= 40) & (df_order_customer_prd_high['Age'] < 60), 'age_group'] = 'Middle Age'"
   ]
  },
  {
   "cell_type": "code",
   "execution_count": 25,
   "id": "7d2443a3",
   "metadata": {},
   "outputs": [],
   "source": [
    "# Create a column for age groupe - adult is more than or equal 60 - Senior\n",
    "df_order_customer_prd_high.loc[df_order_customer_prd_high['Age'] >= 60, 'age_group'] = 'Senior'"
   ]
  },
  {
   "cell_type": "code",
   "execution_count": 26,
   "id": "1136c91f",
   "metadata": {},
   "outputs": [
    {
     "data": {
      "text/plain": [
       "Senior         10574504\n",
       "Middle Age      9724950\n",
       "Adult           6800592\n",
       "Young Adult     3864518\n",
       "Name: age_group, dtype: int64"
      ]
     },
     "execution_count": 26,
     "metadata": {},
     "output_type": "execute_result"
    }
   ],
   "source": [
    "df_order_customer_prd_high['age_group'].value_counts()"
   ]
  },
  {
   "cell_type": "code",
   "execution_count": 4,
   "id": "616f019f",
   "metadata": {},
   "outputs": [
    {
     "data": {
      "text/plain": [
       "(30964564, 34)"
      ]
     },
     "execution_count": 4,
     "metadata": {},
     "output_type": "execute_result"
    }
   ],
   "source": [
    "df_order_customer_prd_high.shape"
   ]
  },
  {
   "cell_type": "code",
   "execution_count": 42,
   "id": "f78b139c",
   "metadata": {},
   "outputs": [],
   "source": [
    "#export fjle\n",
    "df_order_customer_prd_high.to_pickle(os.path.join(path, '02 Data','Prepared Data', 'full_file_v4.pkl'))"
   ]
  },
  {
   "cell_type": "code",
   "execution_count": 4,
   "id": "41f572b5",
   "metadata": {},
   "outputs": [
    {
     "data": {
      "image/png": "[encoded data removed]",
      "text/plain": [
       "<Figure size 640x480 with 1 Axes>"
      ]
     },
     "metadata": {},
     "output_type": "display_data"
    }
   ],
   "source": [
    "## Create age_group chart\n",
    "age_group_bar = df_order_customer_prd_high['age_group'].value_counts().plot.bar()\n",
    "plt.title('Age Group Total')\n",
    "plt.show()"
   ]
  },
  {
   "cell_type": "code",
   "execution_count": 5,
   "id": "89abdbfd",
   "metadata": {},
   "outputs": [],
   "source": [
    "#Export bar figure\n",
    "age_group_bar.figure.savefig(os.path.join(path, '04 Analysis','Visualizations', 'age_group_bar.png'))"
   ]
  },
  {
   "cell_type": "code",
   "execution_count": 8,
   "id": "29d201aa",
   "metadata": {},
   "outputs": [],
   "source": [
    "# get some information ofthe order per age group, agg days since last order know frequency, and prices\n",
    "age_group_orders = df_order_customer_prd_high.groupby('age_group').agg({'days_since_last_order':['max', 'mean', 'min'], 'prices':['max', 'mean', 'min']})"
   ]
  },
  {
   "cell_type": "code",
   "execution_count": 11,
   "id": "cce2aa76",
   "metadata": {},
   "outputs": [],
   "source": [
    "age_group_orders.to_clipboard()"
   ]
  },
  {
   "cell_type": "code",
   "execution_count": 10,
   "id": "8eff4597",
   "metadata": {},
   "outputs": [
    {
     "data": {
      "text/html": [
       "<div>\n",
       "<style scoped>\n",
       "    .dataframe tbody tr th:only-of-type {\n",
       "        vertical-align: middle;\n",
       "    }\n",
       "\n",
       "    .dataframe tbody tr th {\n",
       "        vertical-align: top;\n",
       "    }\n",
       "\n",
       "    .dataframe thead tr th {\n",
       "        text-align: left;\n",
       "    }\n",
       "\n",
       "    .dataframe thead tr:last-of-type th {\n",
       "        text-align: right;\n",
       "    }\n",
       "</style>\n",
       "<table border=\"1\" class=\"dataframe\">\n",
       "  <thead>\n",
       "    <tr>\n",
       "      <th></th>\n",
       "      <th colspan=\"3\" halign=\"left\">days_since_last_order</th>\n",
       "      <th colspan=\"3\" halign=\"left\">prices</th>\n",
       "    </tr>\n",
       "    <tr>\n",
       "      <th></th>\n",
       "      <th>max</th>\n",
       "      <th>mean</th>\n",
       "      <th>min</th>\n",
       "      <th>max</th>\n",
       "      <th>mean</th>\n",
       "      <th>min</th>\n",
       "    </tr>\n",
       "    <tr>\n",
       "      <th>age_group</th>\n",
       "      <th></th>\n",
       "      <th></th>\n",
       "      <th></th>\n",
       "      <th></th>\n",
       "      <th></th>\n",
       "      <th></th>\n",
       "    </tr>\n",
       "  </thead>\n",
       "  <tbody>\n",
       "    <tr>\n",
       "      <th>Adult</th>\n",
       "      <td>30.0</td>\n",
       "      <td>10.818212</td>\n",
       "      <td>0.0</td>\n",
       "      <td>25.0</td>\n",
       "      <td>7.784778</td>\n",
       "      <td>1.0</td>\n",
       "    </tr>\n",
       "    <tr>\n",
       "      <th>Middle Age</th>\n",
       "      <td>30.0</td>\n",
       "      <td>10.819702</td>\n",
       "      <td>0.0</td>\n",
       "      <td>25.0</td>\n",
       "      <td>7.791641</td>\n",
       "      <td>1.0</td>\n",
       "    </tr>\n",
       "    <tr>\n",
       "      <th>Senior</th>\n",
       "      <td>30.0</td>\n",
       "      <td>10.800664</td>\n",
       "      <td>0.0</td>\n",
       "      <td>25.0</td>\n",
       "      <td>7.795446</td>\n",
       "      <td>1.0</td>\n",
       "    </tr>\n",
       "    <tr>\n",
       "      <th>Young Adult</th>\n",
       "      <td>30.0</td>\n",
       "      <td>10.799070</td>\n",
       "      <td>0.0</td>\n",
       "      <td>25.0</td>\n",
       "      <td>7.784889</td>\n",
       "      <td>1.0</td>\n",
       "    </tr>\n",
       "  </tbody>\n",
       "</table>\n",
       "</div>"
      ],
      "text/plain": [
       "            days_since_last_order                 prices               \n",
       "                              max       mean  min    max      mean  min\n",
       "age_group                                                              \n",
       "Adult                        30.0  10.818212  0.0   25.0  7.784778  1.0\n",
       "Middle Age                   30.0  10.819702  0.0   25.0  7.791641  1.0\n",
       "Senior                       30.0  10.800664  0.0   25.0  7.795446  1.0\n",
       "Young Adult                  30.0  10.799070  0.0   25.0  7.784889  1.0"
      ]
     },
     "execution_count": 10,
     "metadata": {},
     "output_type": "execute_result"
    }
   ],
   "source": [
    "age_group_orders"
   ]
  },
  {
   "cell_type": "code",
   "execution_count": 12,
   "id": "a0ea4698",
   "metadata": {},
   "outputs": [],
   "source": [
    "##Cross tab age groups and days of the week\n",
    "agegroup_days  = pd.crosstab(df_order_customer_prd_high['age_group'], df_order_customer_prd_high['orders_day_of_week'], dropna = False)"
   ]
  },
  {
   "cell_type": "code",
   "execution_count": 39,
   "id": "63cc20ec",
   "metadata": {},
   "outputs": [
    {
     "data": {
      "image/png": "[encoded data removed]",
      "text/plain": [
       "<Figure size 640x480 with 1 Axes>"
      ]
     },
     "metadata": {},
     "output_type": "display_data"
    }
   ],
   "source": [
    "## Bar charge for region and age\n",
    "age_days = agegroup_days.plot.barh(stacked=True)\n",
    "plt.title('Age Group by Region')\n",
    "plt.show()"
   ]
  },
  {
   "cell_type": "code",
   "execution_count": 13,
   "id": "bbbccef0",
   "metadata": {},
   "outputs": [],
   "source": [
    "agegroup_days.to_clipboard()"
   ]
  },
  {
   "cell_type": "code",
   "execution_count": 40,
   "id": "85c5c3ba",
   "metadata": {},
   "outputs": [],
   "source": [
    "#Export bar figure\n",
    "age_days.figure.savefig(os.path.join(path, '04 Analysis','Visualizations', 'age_days_bar.png'))"
   ]
  },
  {
   "cell_type": "code",
   "execution_count": 24,
   "id": "5edf662f",
   "metadata": {},
   "outputs": [],
   "source": [
    "##Cross tab region\n",
    "ageregion=pd.crosstab(df_order_customer_prd_high['age_group'],df_order_customer_prd_high['region'],dropna=False)"
   ]
  },
  {
   "cell_type": "code",
   "execution_count": 17,
   "id": "ba7a5ba0",
   "metadata": {},
   "outputs": [],
   "source": [
    "ageregion.to_clipboard()"
   ]
  },
  {
   "cell_type": "code",
   "execution_count": 25,
   "id": "cf2be9d1",
   "metadata": {},
   "outputs": [
    {
     "data": {
      "image/png": "[encoded data removed]",
      "text/plain": [
       "<Figure size 640x480 with 1 Axes>"
      ]
     },
     "metadata": {},
     "output_type": "display_data"
    }
   ],
   "source": [
    "## Bar charge for region and age\n",
    "age_region_bar = ageregion.plot.bar()\n",
    "plt.title('Age Group by Region')\n",
    "plt.show()"
   ]
  },
  {
   "cell_type": "code",
   "execution_count": 26,
   "id": "219cd8a6",
   "metadata": {},
   "outputs": [],
   "source": [
    "#Export bar figure\n",
    "age_region_bar.figure.savefig(os.path.join(path, '04 Analysis','Visualizations', 'age_region_bar.png'))"
   ]
  },
  {
   "cell_type": "code",
   "execution_count": 35,
   "id": "9f63b7e8",
   "metadata": {},
   "outputs": [],
   "source": [
    "##Cross tab department and age\n",
    "age_detp=pd.crosstab(df_order_customer_prd_high['department'],df_order_customer_prd_high['age_group'],dropna=False)"
   ]
  },
  {
   "cell_type": "code",
   "execution_count": 36,
   "id": "3a9e343d",
   "metadata": {},
   "outputs": [],
   "source": [
    "age_detp.to_clipboard()"
   ]
  },
  {
   "cell_type": "code",
   "execution_count": 55,
   "id": "27f292d1",
   "metadata": {},
   "outputs": [],
   "source": [
    "##Cross tab product and age\n",
    "age_product=pd.crosstab(df_order_customer_prd_high['product_name'],df_order_customer_prd_high['age_group'],dropna=False)"
   ]
  },
  {
   "cell_type": "code",
   "execution_count": 42,
   "id": "b4002ff2",
   "metadata": {},
   "outputs": [],
   "source": [
    "age_product.to_clipboard()"
   ]
  },
  {
   "cell_type": "markdown",
   "id": "ab384ca8",
   "metadata": {},
   "source": [
    "## Create Income group"
   ]
  },
  {
   "cell_type": "code",
   "execution_count": 48,
   "id": "43d5a276",
   "metadata": {},
   "outputs": [
    {
     "data": {
      "text/plain": [
       "max     593901.000000\n",
       "min      25903.000000\n",
       "mean     99675.865108\n",
       "Name: income, dtype: float64"
      ]
     },
     "execution_count": 48,
     "metadata": {},
     "output_type": "execute_result"
    }
   ],
   "source": [
    "df_order_customer_prd_high['income'].agg([max, min, 'mean'])"
   ]
  },
  {
   "cell_type": "code",
   "execution_count": 21,
   "id": "c81f7c34",
   "metadata": {},
   "outputs": [
    {
     "data": {
      "text/plain": [
       "count    3.096456e+07\n",
       "mean     9.967587e+04\n",
       "std      4.314187e+04\n",
       "min      2.590300e+04\n",
       "25%      6.729200e+04\n",
       "50%      9.676500e+04\n",
       "75%      1.281020e+05\n",
       "max      5.939010e+05\n",
       "Name: income, dtype: float64"
      ]
     },
     "execution_count": 21,
     "metadata": {},
     "output_type": "execute_result"
    }
   ],
   "source": [
    "df_order_customer_prd_high['income'].describe()"
   ]
  },
  {
   "cell_type": "code",
   "execution_count": 4,
   "id": "c894489c",
   "metadata": {},
   "outputs": [],
   "source": [
    "# Create a column for income groupe - less or equal to 67292 - low income\n",
    "df_order_customer_prd_high.loc[df_order_customer_prd_high['income'] <= 67292, 'income_group'] = 'Low income'"
   ]
  },
  {
   "cell_type": "code",
   "execution_count": 39,
   "id": "aaf66a99",
   "metadata": {},
   "outputs": [],
   "source": [
    "# Create a column for income groupe - Avg Income higher than 67292 and lower than 96765\n",
    "df_order_customer_prd_high.loc[(df_order_customer_prd_high['income'] > 67292) & (df_order_customer_prd_high['income'] < 96765) , 'income_group'] = 'Avg income'"
   ]
  },
  {
   "cell_type": "code",
   "execution_count": 40,
   "id": "428167a1",
   "metadata": {},
   "outputs": [],
   "source": [
    "# Create a column for income groupe - More or equal to  96765- High income\n",
    "df_order_customer_prd_high.loc[df_order_customer_prd_high['income'] >= 96765, 'income_group'] = 'High income'"
   ]
  },
  {
   "cell_type": "code",
   "execution_count": 41,
   "id": "3f917622",
   "metadata": {},
   "outputs": [
    {
     "data": {
      "text/plain": [
       "High income    15483427\n",
       "Low income      7741348\n",
       "Avg income      7739789\n",
       "Name: income_group, dtype: int64"
      ]
     },
     "execution_count": 41,
     "metadata": {},
     "output_type": "execute_result"
    }
   ],
   "source": [
    "df_order_customer_prd_high['income_group'].value_counts()"
   ]
  },
  {
   "cell_type": "code",
   "execution_count": 6,
   "id": "9d33e508",
   "metadata": {},
   "outputs": [
    {
     "data": {
      "image/png": "[encoded data removed]",
      "text/plain": [
       "<Figure size 640x480 with 1 Axes>"
      ]
     },
     "metadata": {},
     "output_type": "display_data"
    }
   ],
   "source": [
    "## Create income_group chart\n",
    "income_group_bar = df_order_customer_prd_high['income_group'].value_counts().plot.bar()\n",
    "plt.title('Income Group Total')\n",
    "plt.show()"
   ]
  },
  {
   "cell_type": "code",
   "execution_count": 7,
   "id": "94d8c635",
   "metadata": {},
   "outputs": [],
   "source": [
    "#Export bar figure\n",
    "income_group_bar.figure.savefig(os.path.join(path, '04 Analysis','Visualizations', 'income_group_bar.png'))"
   ]
  },
  {
   "cell_type": "code",
   "execution_count": 43,
   "id": "be4c68cd",
   "metadata": {},
   "outputs": [],
   "source": [
    "##Cross tab income and age\n",
    "age_income=pd.crosstab(df_order_customer_prd_high['income_group'],df_order_customer_prd_high['age_group'],dropna=False)"
   ]
  },
  {
   "cell_type": "code",
   "execution_count": 44,
   "id": "aab897f3",
   "metadata": {},
   "outputs": [],
   "source": [
    "age_income.to_clipboard()"
   ]
  },
  {
   "cell_type": "code",
   "execution_count": 46,
   "id": "d9e6cffb",
   "metadata": {},
   "outputs": [
    {
     "data": {
      "image/png": "[encoded data removed]",
      "text/plain": [
       "<Figure size 640x480 with 1 Axes>"
      ]
     },
     "metadata": {},
     "output_type": "display_data"
    }
   ],
   "source": [
    "## Bar charge income\n",
    "age_income_bar = age_income.plot.bar(stacked=True)\n",
    "plt.title('Income per age group')\n",
    "plt.show()"
   ]
  },
  {
   "cell_type": "code",
   "execution_count": 47,
   "id": "856cfa9a",
   "metadata": {},
   "outputs": [],
   "source": [
    "#Export bar figure\n",
    "age_income_bar.figure.savefig(os.path.join(path, '04 Analysis','Visualizations', 'age_income_bar.png'))"
   ]
  },
  {
   "cell_type": "code",
   "execution_count": 48,
   "id": "e7ce4bba",
   "metadata": {},
   "outputs": [],
   "source": [
    "##Cross tab region\n",
    "income_region=pd.crosstab(df_order_customer_prd_high['income_group'],df_order_customer_prd_high['region'],dropna=False)"
   ]
  },
  {
   "cell_type": "code",
   "execution_count": 49,
   "id": "1ca401bd",
   "metadata": {},
   "outputs": [],
   "source": [
    "income_region.to_clipboard()"
   ]
  },
  {
   "cell_type": "code",
   "execution_count": 50,
   "id": "76ddd9ae",
   "metadata": {},
   "outputs": [
    {
     "data": {
      "image/png": "[encoded data removed]",
      "text/plain": [
       "<Figure size 640x480 with 1 Axes>"
      ]
     },
     "metadata": {},
     "output_type": "display_data"
    }
   ],
   "source": [
    "## Bar charge for region and income\n",
    "income_region_bar = income_region.plot.bar()\n",
    "plt.title('Income Group by Region')\n",
    "plt.show()"
   ]
  },
  {
   "cell_type": "code",
   "execution_count": 51,
   "id": "5ee95676",
   "metadata": {},
   "outputs": [],
   "source": [
    "#Export bar figure\n",
    "income_region_bar.figure.savefig(os.path.join(path, '04 Analysis','Visualizations', 'income_region_bar.png'))"
   ]
  },
  {
   "cell_type": "code",
   "execution_count": 52,
   "id": "237a7950",
   "metadata": {},
   "outputs": [],
   "source": [
    "##Cross tab department and income\n",
    "income_detp=pd.crosstab(df_order_customer_prd_high['department'],df_order_customer_prd_high['income_group'],dropna=False)"
   ]
  },
  {
   "cell_type": "code",
   "execution_count": 53,
   "id": "f58f8cb1",
   "metadata": {},
   "outputs": [],
   "source": [
    "income_detp.to_clipboard()"
   ]
  },
  {
   "cell_type": "code",
   "execution_count": 56,
   "id": "ae4092e1",
   "metadata": {},
   "outputs": [],
   "source": [
    "##Cross tab product and income\n",
    "income_product=pd.crosstab(df_order_customer_prd_high['product_name'],df_order_customer_prd_high['income_group'],df_order_customer_prd_high['income_group'],dropna=False)"
   ]
  },
  {
   "cell_type": "code",
   "execution_count": 57,
   "id": "bacaf6c5",
   "metadata": {},
   "outputs": [],
   "source": [
    "income_product.to_clipboard()"
   ]
  },
  {
   "cell_type": "markdown",
   "id": "65130c05",
   "metadata": {},
   "source": [
    "## Merge departments and look into products"
   ]
  },
  {
   "cell_type": "code",
   "execution_count": 51,
   "id": "476abf50",
   "metadata": {},
   "outputs": [
    {
     "data": {
      "text/plain": [
       "Banana                                           453164\n",
       "Bag of Organic Bananas                           366403\n",
       "Organic Strawberries                             255988\n",
       "Organic Baby Spinach                             231772\n",
       "Organic Hass Avocado                             206799\n",
       "                                                  ...  \n",
       "Organic ZFruit Rope Fruit Punch Flavor                1\n",
       "Zero Mercury 2025 Lithium Batteries                   1\n",
       "Control GX Gray Reducing Shampoo                      1\n",
       "Yogurt, Coconut Non-Dairy, Low Fat, Blueberry         1\n",
       "Vitamin D Gummies                                     1\n",
       "Name: product_name, Length: 49630, dtype: int64"
      ]
     },
     "execution_count": 51,
     "metadata": {},
     "output_type": "execute_result"
    }
   ],
   "source": [
    "## Check product name\n",
    "df_order_customer_prd_high['product_name'].value_counts()"
   ]
  },
  {
   "cell_type": "code",
   "execution_count": 52,
   "id": "9dc6897d",
   "metadata": {},
   "outputs": [
    {
     "data": {
      "text/plain": [
       "4     9079273\n",
       "16    5177182\n",
       "19    2766406\n",
       "7     2571901\n",
       "1     2121731\n",
       "13    1782705\n",
       "3     1120828\n",
       "15    1012074\n",
       "20    1003834\n",
       "9      822136\n",
       "17     699857\n",
       "12     674781\n",
       "14     670850\n",
       "11     424306\n",
       "18     410392\n",
       "6      255991\n",
       "5      144627\n",
       "8       93060\n",
       "21      64768\n",
       "2       34411\n",
       "10      33451\n",
       "Name: department_id, dtype: int64"
      ]
     },
     "execution_count": 52,
     "metadata": {},
     "output_type": "execute_result"
    }
   ],
   "source": [
    "##Check Department\n",
    "df_order_customer_prd_high['department_id'].value_counts()"
   ]
  },
  {
   "cell_type": "code",
   "execution_count": 4,
   "id": "c5167fe4",
   "metadata": {},
   "outputs": [],
   "source": [
    "# import department file\n",
    "df_dept = pd.read_csv(os.path.join(path, '02 Data', 'Prepared Data', 'departments_wrangled.csv'), index_col = False)"
   ]
  },
  {
   "cell_type": "code",
   "execution_count": 5,
   "id": "3440f166",
   "metadata": {},
   "outputs": [
    {
     "data": {
      "text/html": [
       "<div>\n",
       "<style scoped>\n",
       "    .dataframe tbody tr th:only-of-type {\n",
       "        vertical-align: middle;\n",
       "    }\n",
       "\n",
       "    .dataframe tbody tr th {\n",
       "        vertical-align: top;\n",
       "    }\n",
       "\n",
       "    .dataframe thead th {\n",
       "        text-align: right;\n",
       "    }\n",
       "</style>\n",
       "<table border=\"1\" class=\"dataframe\">\n",
       "  <thead>\n",
       "    <tr style=\"text-align: right;\">\n",
       "      <th></th>\n",
       "      <th>Unnamed: 0</th>\n",
       "      <th>department</th>\n",
       "    </tr>\n",
       "  </thead>\n",
       "  <tbody>\n",
       "    <tr>\n",
       "      <th>0</th>\n",
       "      <td>1</td>\n",
       "      <td>frozen</td>\n",
       "    </tr>\n",
       "    <tr>\n",
       "      <th>1</th>\n",
       "      <td>2</td>\n",
       "      <td>other</td>\n",
       "    </tr>\n",
       "    <tr>\n",
       "      <th>2</th>\n",
       "      <td>3</td>\n",
       "      <td>bakery</td>\n",
       "    </tr>\n",
       "    <tr>\n",
       "      <th>3</th>\n",
       "      <td>4</td>\n",
       "      <td>produce</td>\n",
       "    </tr>\n",
       "    <tr>\n",
       "      <th>4</th>\n",
       "      <td>5</td>\n",
       "      <td>alcohol</td>\n",
       "    </tr>\n",
       "  </tbody>\n",
       "</table>\n",
       "</div>"
      ],
      "text/plain": [
       "   Unnamed: 0 department\n",
       "0           1     frozen\n",
       "1           2      other\n",
       "2           3     bakery\n",
       "3           4    produce\n",
       "4           5    alcohol"
      ]
     },
     "execution_count": 5,
     "metadata": {},
     "output_type": "execute_result"
    }
   ],
   "source": [
    "df_dept.head()"
   ]
  },
  {
   "cell_type": "code",
   "execution_count": 6,
   "id": "4b725c98",
   "metadata": {},
   "outputs": [],
   "source": [
    "# remane Unnamed: 0 to department_id\n",
    "df_dept.rename(columns={'Unnamed: 0':'department_id'},inplace=True)"
   ]
  },
  {
   "cell_type": "code",
   "execution_count": 7,
   "id": "61ef32f3",
   "metadata": {},
   "outputs": [
    {
     "data": {
      "text/html": [
       "<div>\n",
       "<style scoped>\n",
       "    .dataframe tbody tr th:only-of-type {\n",
       "        vertical-align: middle;\n",
       "    }\n",
       "\n",
       "    .dataframe tbody tr th {\n",
       "        vertical-align: top;\n",
       "    }\n",
       "\n",
       "    .dataframe thead th {\n",
       "        text-align: right;\n",
       "    }\n",
       "</style>\n",
       "<table border=\"1\" class=\"dataframe\">\n",
       "  <thead>\n",
       "    <tr style=\"text-align: right;\">\n",
       "      <th></th>\n",
       "      <th>department_id</th>\n",
       "      <th>department</th>\n",
       "    </tr>\n",
       "  </thead>\n",
       "  <tbody>\n",
       "    <tr>\n",
       "      <th>0</th>\n",
       "      <td>1</td>\n",
       "      <td>frozen</td>\n",
       "    </tr>\n",
       "    <tr>\n",
       "      <th>1</th>\n",
       "      <td>2</td>\n",
       "      <td>other</td>\n",
       "    </tr>\n",
       "    <tr>\n",
       "      <th>2</th>\n",
       "      <td>3</td>\n",
       "      <td>bakery</td>\n",
       "    </tr>\n",
       "    <tr>\n",
       "      <th>3</th>\n",
       "      <td>4</td>\n",
       "      <td>produce</td>\n",
       "    </tr>\n",
       "    <tr>\n",
       "      <th>4</th>\n",
       "      <td>5</td>\n",
       "      <td>alcohol</td>\n",
       "    </tr>\n",
       "  </tbody>\n",
       "</table>\n",
       "</div>"
      ],
      "text/plain": [
       "   department_id department\n",
       "0              1     frozen\n",
       "1              2      other\n",
       "2              3     bakery\n",
       "3              4    produce\n",
       "4              5    alcohol"
      ]
     },
     "execution_count": 7,
     "metadata": {},
     "output_type": "execute_result"
    }
   ],
   "source": [
    "df_dept.head()"
   ]
  },
  {
   "cell_type": "code",
   "execution_count": 8,
   "id": "40c3be81",
   "metadata": {},
   "outputs": [
    {
     "data": {
      "text/plain": [
       "(21, 2)"
      ]
     },
     "execution_count": 8,
     "metadata": {},
     "output_type": "execute_result"
    }
   ],
   "source": [
    "df_dept.shape"
   ]
  },
  {
   "cell_type": "code",
   "execution_count": 12,
   "id": "a114502a",
   "metadata": {
    "scrolled": false
   },
   "outputs": [],
   "source": [
    "# merge product customer with dept\n",
    "df_cust_focus = df_order_customer_prd_high.merge(df_dept,on='department_id')"
   ]
  },
  {
   "cell_type": "code",
   "execution_count": 11,
   "id": "26c1e9bc",
   "metadata": {},
   "outputs": [
    {
     "data": {
      "text/plain": [
       "department_id      int8\n",
       "department       object\n",
       "dtype: object"
      ]
     },
     "execution_count": 11,
     "metadata": {},
     "output_type": "execute_result"
    }
   ],
   "source": [
    "df_dept.dtypes"
   ]
  },
  {
   "cell_type": "code",
   "execution_count": 10,
   "id": "8557d24e",
   "metadata": {},
   "outputs": [],
   "source": [
    "##Change type to int8\n",
    "df_dept['department_id'] = df_dept['department_id'].astype('int8')"
   ]
  },
  {
   "cell_type": "code",
   "execution_count": 13,
   "id": "f0291941",
   "metadata": {},
   "outputs": [
    {
     "data": {
      "text/plain": [
       "(30964564, 36)"
      ]
     },
     "execution_count": 13,
     "metadata": {},
     "output_type": "execute_result"
    }
   ],
   "source": [
    "df_cust_focus.shape"
   ]
  },
  {
   "cell_type": "code",
   "execution_count": 68,
   "id": "520e78da",
   "metadata": {},
   "outputs": [
    {
     "ename": "NameError",
     "evalue": "name 'df_cust_focus' is not defined",
     "output_type": "error",
     "traceback": [
      "\u001b[1;31m---------------------------------------------------------------------------\u001b[0m",
      "\u001b[1;31mNameError\u001b[0m                                 Traceback (most recent call last)",
      "Cell \u001b[1;32mIn[68], line 2\u001b[0m\n\u001b[0;32m      1\u001b[0m \u001b[38;5;66;03m#export merged  fjle\u001b[39;00m\n\u001b[1;32m----> 2\u001b[0m \u001b[43mdf_cust_focus\u001b[49m\u001b[38;5;241m.\u001b[39mto_pickle(os\u001b[38;5;241m.\u001b[39mpath\u001b[38;5;241m.\u001b[39mjoin(path, \u001b[38;5;124m'\u001b[39m\u001b[38;5;124m02 Data\u001b[39m\u001b[38;5;124m'\u001b[39m,\u001b[38;5;124m'\u001b[39m\u001b[38;5;124mPrepared Data\u001b[39m\u001b[38;5;124m'\u001b[39m, \u001b[38;5;124m'\u001b[39m\u001b[38;5;124mfull_file_v4.pkl\u001b[39m\u001b[38;5;124m'\u001b[39m))\n",
      "\u001b[1;31mNameError\u001b[0m: name 'df_cust_focus' is not defined"
     ]
    }
   ],
   "source": [
    "#export merged  fjle\n",
    "df_cust_focus.to_pickle(os.path.join(path, '02 Data','Prepared Data', 'full_file_v4.pkl'))"
   ]
  },
  {
   "cell_type": "code",
   "execution_count": 60,
   "id": "9ac8f8ac",
   "metadata": {},
   "outputs": [
    {
     "data": {
      "text/plain": [
       "produce            9079273\n",
       "dairy eggs         5177182\n",
       "snacks             2766406\n",
       "beverages          2571901\n",
       "frozen             2121731\n",
       "pantry             1782705\n",
       "bakery             1120828\n",
       "canned goods       1012074\n",
       "deli               1003834\n",
       "dry goods pasta     822136\n",
       "household           699857\n",
       "meat seafood        674781\n",
       "breakfast           670850\n",
       "personal care       424306\n",
       "babies              410392\n",
       "international       255991\n",
       "alcohol             144627\n",
       "pets                 93060\n",
       "missing              64768\n",
       "other                34411\n",
       "bulk                 33451\n",
       "Name: department, dtype: int64"
      ]
     },
     "execution_count": 60,
     "metadata": {},
     "output_type": "execute_result"
    }
   ],
   "source": [
    "##Departments orders\n",
    "df_order_customer_prd_high['department'].value_counts()"
   ]
  },
  {
   "cell_type": "code",
   "execution_count": 71,
   "id": "8e53a985",
   "metadata": {},
   "outputs": [
    {
     "data": {
      "image/png": "[encoded data removed]",
      "text/plain": [
       "<Figure size 640x480 with 1 Axes>"
      ]
     },
     "metadata": {},
     "output_type": "display_data"
    }
   ],
   "source": [
    "## Create income_group chart\n",
    "department_bar = df_order_customer_prd_high['department'].value_counts().plot.bar()\n",
    "plt.title('Department Total')\n",
    "plt.show()"
   ]
  },
  {
   "cell_type": "code",
   "execution_count": 62,
   "id": "b1aa1c05",
   "metadata": {},
   "outputs": [],
   "source": [
    "#Export bar figure\n",
    "department_bar.figure.savefig(os.path.join(path, '04 Analysis','Visualizations', 'department_bar.png'))"
   ]
  },
  {
   "cell_type": "markdown",
   "id": "c5327c3e",
   "metadata": {},
   "source": [
    "## Profile dependants"
   ]
  },
  {
   "cell_type": "code",
   "execution_count": 64,
   "id": "79815f4f",
   "metadata": {},
   "outputs": [],
   "source": [
    "# Create a column dependant\n",
    "df_order_customer_prd_high.loc[df_order_customer_prd_high['n_dependants'] == 0, 'dependant_status'] = 'no dependant'"
   ]
  },
  {
   "cell_type": "code",
   "execution_count": 65,
   "id": "2fe0ffd7",
   "metadata": {},
   "outputs": [],
   "source": [
    "# Create a column dependant\n",
    "df_order_customer_prd_high.loc[df_order_customer_prd_high['n_dependants'] > 0, 'dependant_status'] = 'with dependant'"
   ]
  },
  {
   "cell_type": "code",
   "execution_count": 67,
   "id": "984c7325",
   "metadata": {},
   "outputs": [
    {
     "data": {
      "text/plain": [
       "with dependant    23224883\n",
       "no dependant       7739681\n",
       "Name: dependant_status, dtype: int64"
      ]
     },
     "execution_count": 67,
     "metadata": {},
     "output_type": "execute_result"
    }
   ],
   "source": [
    "##Dependant\n",
    "df_order_customer_prd_high['dependant_status'].value_counts()"
   ]
  },
  {
   "cell_type": "code",
   "execution_count": 70,
   "id": "ed8a7f9b",
   "metadata": {},
   "outputs": [
    {
     "data": {
      "image/png": "[encoded data removed]",
      "text/plain": [
       "<Figure size 640x480 with 1 Axes>"
      ]
     },
     "metadata": {},
     "output_type": "display_data"
    }
   ],
   "source": [
    "## Create dependat chart\n",
    "dependant_bar = df_order_customer_prd_high['dependant_status'].value_counts().plot.bar()\n",
    "plt.title('Dependant_status Total')\n",
    "plt.show()"
   ]
  },
  {
   "cell_type": "code",
   "execution_count": 72,
   "id": "62572b44",
   "metadata": {},
   "outputs": [],
   "source": [
    "#Export bar figure\n",
    "dependant_bar.figure.savefig(os.path.join(path, '04 Analysis','Visualizations', 'dependant_bar.png'))"
   ]
  },
  {
   "cell_type": "code",
   "execution_count": 76,
   "id": "7de37659",
   "metadata": {},
   "outputs": [],
   "source": [
    "##Cross tab dependant and income\n",
    "age_depend=pd.crosstab(df_order_customer_prd_high['dependant_status'],df_order_customer_prd_high['age_group'],dropna=False)"
   ]
  },
  {
   "cell_type": "code",
   "execution_count": 74,
   "id": "a726ee0e",
   "metadata": {},
   "outputs": [],
   "source": [
    "age_depend.to_clipboard()"
   ]
  },
  {
   "cell_type": "code",
   "execution_count": 89,
   "id": "586df519",
   "metadata": {},
   "outputs": [],
   "source": [
    "family_status = df_order_customer_prd_high.groupby(['region','fam_status','dependant_status','age_group','income_group']).agg({'prices': ['mean', 'min', 'max'],'days_since_last_order': ['mean', 'min', 'max'], 'order_id':['count']})"
   ]
  },
  {
   "cell_type": "code",
   "execution_count": 87,
   "id": "177af0cb",
   "metadata": {},
   "outputs": [
    {
     "data": {
      "text/html": [
       "<div>\n",
       "<style scoped>\n",
       "    .dataframe tbody tr th:only-of-type {\n",
       "        vertical-align: middle;\n",
       "    }\n",
       "\n",
       "    .dataframe tbody tr th {\n",
       "        vertical-align: top;\n",
       "    }\n",
       "\n",
       "    .dataframe thead tr th {\n",
       "        text-align: left;\n",
       "    }\n",
       "\n",
       "    .dataframe thead tr:last-of-type th {\n",
       "        text-align: right;\n",
       "    }\n",
       "</style>\n",
       "<table border=\"1\" class=\"dataframe\">\n",
       "  <thead>\n",
       "    <tr>\n",
       "      <th></th>\n",
       "      <th></th>\n",
       "      <th></th>\n",
       "      <th></th>\n",
       "      <th></th>\n",
       "      <th colspan=\"3\" halign=\"left\">prices</th>\n",
       "      <th>order_id</th>\n",
       "    </tr>\n",
       "    <tr>\n",
       "      <th></th>\n",
       "      <th></th>\n",
       "      <th></th>\n",
       "      <th></th>\n",
       "      <th></th>\n",
       "      <th>mean</th>\n",
       "      <th>min</th>\n",
       "      <th>max</th>\n",
       "      <th>count</th>\n",
       "    </tr>\n",
       "    <tr>\n",
       "      <th>region</th>\n",
       "      <th>fam_status</th>\n",
       "      <th>dependant_status</th>\n",
       "      <th>age_group</th>\n",
       "      <th>income_group</th>\n",
       "      <th></th>\n",
       "      <th></th>\n",
       "      <th></th>\n",
       "      <th></th>\n",
       "    </tr>\n",
       "  </thead>\n",
       "  <tbody>\n",
       "    <tr>\n",
       "      <th rowspan=\"5\" valign=\"top\">Midwest</th>\n",
       "      <th rowspan=\"3\" valign=\"top\">divorced/widowed</th>\n",
       "      <th rowspan=\"3\" valign=\"top\">no dependant</th>\n",
       "      <th rowspan=\"3\" valign=\"top\">Senior</th>\n",
       "      <th>Avg income</th>\n",
       "      <td>7.947133</td>\n",
       "      <td>1.0</td>\n",
       "      <td>25.0</td>\n",
       "      <td>89703</td>\n",
       "    </tr>\n",
       "    <tr>\n",
       "      <th>High income</th>\n",
       "      <td>7.937217</td>\n",
       "      <td>1.0</td>\n",
       "      <td>25.0</td>\n",
       "      <td>449982</td>\n",
       "    </tr>\n",
       "    <tr>\n",
       "      <th>Low income</th>\n",
       "      <td>6.714272</td>\n",
       "      <td>1.0</td>\n",
       "      <td>25.0</td>\n",
       "      <td>77513</td>\n",
       "    </tr>\n",
       "    <tr>\n",
       "      <th rowspan=\"2\" valign=\"top\">living with parents and siblings</th>\n",
       "      <th rowspan=\"2\" valign=\"top\">with dependant</th>\n",
       "      <th rowspan=\"2\" valign=\"top\">Young Adult</th>\n",
       "      <th>Avg income</th>\n",
       "      <td>7.972224</td>\n",
       "      <td>1.0</td>\n",
       "      <td>25.0</td>\n",
       "      <td>170418</td>\n",
       "    </tr>\n",
       "    <tr>\n",
       "      <th>High income</th>\n",
       "      <td>7.948549</td>\n",
       "      <td>1.0</td>\n",
       "      <td>25.0</td>\n",
       "      <td>24707</td>\n",
       "    </tr>\n",
       "    <tr>\n",
       "      <th>...</th>\n",
       "      <th>...</th>\n",
       "      <th>...</th>\n",
       "      <th>...</th>\n",
       "      <th>...</th>\n",
       "      <td>...</td>\n",
       "      <td>...</td>\n",
       "      <td>...</td>\n",
       "      <td>...</td>\n",
       "    </tr>\n",
       "    <tr>\n",
       "      <th rowspan=\"5\" valign=\"top\">West</th>\n",
       "      <th rowspan=\"5\" valign=\"top\">single</th>\n",
       "      <th rowspan=\"5\" valign=\"top\">no dependant</th>\n",
       "      <th rowspan=\"2\" valign=\"top\">Middle Age</th>\n",
       "      <th>High income</th>\n",
       "      <td>7.925977</td>\n",
       "      <td>1.0</td>\n",
       "      <td>25.0</td>\n",
       "      <td>456948</td>\n",
       "    </tr>\n",
       "    <tr>\n",
       "      <th>Low income</th>\n",
       "      <td>6.877724</td>\n",
       "      <td>1.0</td>\n",
       "      <td>25.0</td>\n",
       "      <td>91330</td>\n",
       "    </tr>\n",
       "    <tr>\n",
       "      <th rowspan=\"3\" valign=\"top\">Young Adult</th>\n",
       "      <th>Avg income</th>\n",
       "      <td>7.936929</td>\n",
       "      <td>1.0</td>\n",
       "      <td>25.0</td>\n",
       "      <td>100623</td>\n",
       "    </tr>\n",
       "    <tr>\n",
       "      <th>High income</th>\n",
       "      <td>7.988521</td>\n",
       "      <td>1.0</td>\n",
       "      <td>25.0</td>\n",
       "      <td>20135</td>\n",
       "    </tr>\n",
       "    <tr>\n",
       "      <th>Low income</th>\n",
       "      <td>7.470013</td>\n",
       "      <td>1.0</td>\n",
       "      <td>25.0</td>\n",
       "      <td>112921</td>\n",
       "    </tr>\n",
       "  </tbody>\n",
       "</table>\n",
       "<p>108 rows × 4 columns</p>\n",
       "</div>"
      ],
      "text/plain": [
       "                                                                                      prices  \\\n",
       "                                                                                        mean   \n",
       "region  fam_status                       dependant_status age_group   income_group             \n",
       "Midwest divorced/widowed                 no dependant     Senior      Avg income    7.947133   \n",
       "                                                                      High income   7.937217   \n",
       "                                                                      Low income    6.714272   \n",
       "        living with parents and siblings with dependant   Young Adult Avg income    7.972224   \n",
       "                                                                      High income   7.948549   \n",
       "...                                                                                      ...   \n",
       "West    single                           no dependant     Middle Age  High income   7.925977   \n",
       "                                                                      Low income    6.877724   \n",
       "                                                          Young Adult Avg income    7.936929   \n",
       "                                                                      High income   7.988521   \n",
       "                                                                      Low income    7.470013   \n",
       "\n",
       "                                                                                         \\\n",
       "                                                                                    min   \n",
       "region  fam_status                       dependant_status age_group   income_group        \n",
       "Midwest divorced/widowed                 no dependant     Senior      Avg income    1.0   \n",
       "                                                                      High income   1.0   \n",
       "                                                                      Low income    1.0   \n",
       "        living with parents and siblings with dependant   Young Adult Avg income    1.0   \n",
       "                                                                      High income   1.0   \n",
       "...                                                                                 ...   \n",
       "West    single                           no dependant     Middle Age  High income   1.0   \n",
       "                                                                      Low income    1.0   \n",
       "                                                          Young Adult Avg income    1.0   \n",
       "                                                                      High income   1.0   \n",
       "                                                                      Low income    1.0   \n",
       "\n",
       "                                                                                          \\\n",
       "                                                                                     max   \n",
       "region  fam_status                       dependant_status age_group   income_group         \n",
       "Midwest divorced/widowed                 no dependant     Senior      Avg income    25.0   \n",
       "                                                                      High income   25.0   \n",
       "                                                                      Low income    25.0   \n",
       "        living with parents and siblings with dependant   Young Adult Avg income    25.0   \n",
       "                                                                      High income   25.0   \n",
       "...                                                                                  ...   \n",
       "West    single                           no dependant     Middle Age  High income   25.0   \n",
       "                                                                      Low income    25.0   \n",
       "                                                          Young Adult Avg income    25.0   \n",
       "                                                                      High income   25.0   \n",
       "                                                                      Low income    25.0   \n",
       "\n",
       "                                                                                   order_id  \n",
       "                                                                                      count  \n",
       "region  fam_status                       dependant_status age_group   income_group           \n",
       "Midwest divorced/widowed                 no dependant     Senior      Avg income      89703  \n",
       "                                                                      High income    449982  \n",
       "                                                                      Low income      77513  \n",
       "        living with parents and siblings with dependant   Young Adult Avg income     170418  \n",
       "                                                                      High income     24707  \n",
       "...                                                                                     ...  \n",
       "West    single                           no dependant     Middle Age  High income    456948  \n",
       "                                                                      Low income      91330  \n",
       "                                                          Young Adult Avg income     100623  \n",
       "                                                                      High income     20135  \n",
       "                                                                      Low income     112921  \n",
       "\n",
       "[108 rows x 4 columns]"
      ]
     },
     "execution_count": 87,
     "metadata": {},
     "output_type": "execute_result"
    }
   ],
   "source": [
    "family_status "
   ]
  },
  {
   "cell_type": "code",
   "execution_count": 90,
   "id": "84b2346b",
   "metadata": {},
   "outputs": [],
   "source": [
    "family_status.to_clipboard()"
   ]
  },
  {
   "cell_type": "code",
   "execution_count": 4,
   "id": "bd732d56",
   "metadata": {},
   "outputs": [],
   "source": [
    "##Cross tab department and dependant\n",
    "department_depend=pd.crosstab(df_order_customer_prd_high['department'],df_order_customer_prd_high['dependant_status'],dropna=False)"
   ]
  },
  {
   "cell_type": "code",
   "execution_count": 5,
   "id": "e1b62b18",
   "metadata": {},
   "outputs": [],
   "source": [
    "department_depend.to_clipboard()"
   ]
  },
  {
   "cell_type": "code",
   "execution_count": 91,
   "id": "0ed3dc99",
   "metadata": {},
   "outputs": [],
   "source": [
    "#export full file\n",
    "df_order_customer_prd_high.to_pickle(os.path.join(path, '02 Data','Prepared Data', 'full_file_v4.pkl'))"
   ]
  }
 ],
 "metadata": {
  "kernelspec": {
   "display_name": "Python 3 (ipykernel)",
   "language": "python",
   "name": "python3"
  },
  "language_info": {
   "codemirror_mode": {
    "name": "ipython",
    "version": 3
   },
   "file_extension": ".py",
   "mimetype": "text/x-python",
   "name": "python",
   "nbconvert_exporter": "python",
   "pygments_lexer": "ipython3",
   "version": "3.10.9"
  }
 },
 "nbformat": 4,
 "nbformat_minor": 5
}
