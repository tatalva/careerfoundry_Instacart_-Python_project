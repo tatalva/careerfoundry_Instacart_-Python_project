{
 "cells": [
  {
   "cell_type": "code",
   "execution_count": 1,
   "id": "b0a447b2",
   "metadata": {},
   "outputs": [],
   "source": [
    "#import all libraries including visualization\n",
    "import pandas as pd\n",
    "import numpy as np\n",
    "import os\n",
    "import matplotlib.pyplot as plt\n",
    "import seaborn as sns\n",
    "import scipy"
   ]
  },
  {
   "cell_type": "code",
   "execution_count": 2,
   "id": "f27a24bf",
   "metadata": {},
   "outputs": [],
   "source": [
    "# Create path to project folder\n",
    "path = r'C:\\Users\\tatal\\06-2023 Instacart Basket Analysis'"
   ]
  },
  {
   "cell_type": "code",
   "execution_count": 3,
   "id": "a54ba710",
   "metadata": {},
   "outputs": [],
   "source": [
    "#IMPORT susto second\n",
    "df_custo_second = pd.read_pickle(os.path.join(path, '02 Data', 'Prepared Data', 'df_custo_second.pkl'))"
   ]
  },
  {
   "cell_type": "code",
   "execution_count": 4,
   "id": "42eefc27",
   "metadata": {},
   "outputs": [],
   "source": [
    "#IMPORT ord second\n",
    "df_order_second= pd.read_pickle(os.path.join(path, '02 Data', 'Prepared Data', 'df_order_second.pkl'))"
   ]
  },
  {
   "cell_type": "code",
   "execution_count": 5,
   "id": "ce7fedde",
   "metadata": {},
   "outputs": [
    {
     "data": {
      "text/plain": [
       "(16202284, 23)"
      ]
     },
     "execution_count": 5,
     "metadata": {},
     "output_type": "execute_result"
    }
   ],
   "source": [
    "df_order_second.shape"
   ]
  },
  {
   "cell_type": "code",
   "execution_count": 6,
   "id": "fe8e974c",
   "metadata": {},
   "outputs": [
    {
     "data": {
      "text/plain": [
       "(103593, 10)"
      ]
     },
     "execution_count": 6,
     "metadata": {},
     "output_type": "execute_result"
    }
   ],
   "source": [
    "df_custo_second.shape"
   ]
  },
  {
   "cell_type": "code",
   "execution_count": 7,
   "id": "b4b8073f",
   "metadata": {},
   "outputs": [],
   "source": [
    "df_part_two = df_custo_second.merge(df_order_second, on = 'user_id', indicator = True)"
   ]
  },
  {
   "cell_type": "code",
   "execution_count": 8,
   "id": "334ab241",
   "metadata": {},
   "outputs": [],
   "source": [
    "#export part two\n",
    "df_part_two.to_pickle(os.path.join(path, '02 Data','Prepared Data', 'df_part_two.pkl'))"
   ]
  },
  {
   "cell_type": "code",
   "execution_count": 9,
   "id": "ce7e39b0",
   "metadata": {},
   "outputs": [
    {
     "data": {
      "text/plain": [
       "(16202284, 33)"
      ]
     },
     "execution_count": 9,
     "metadata": {},
     "output_type": "execute_result"
    }
   ],
   "source": [
    "df_part_two.shape"
   ]
  },
  {
   "cell_type": "code",
   "execution_count": null,
   "id": "f56aa714",
   "metadata": {},
   "outputs": [],
   "source": []
  }
 ],
 "metadata": {
  "kernelspec": {
   "display_name": "Python 3 (ipykernel)",
   "language": "python",
   "name": "python3"
  },
  "language_info": {
   "codemirror_mode": {
    "name": "ipython",
    "version": 3
   },
   "file_extension": ".py",
   "mimetype": "text/x-python",
   "name": "python",
   "nbconvert_exporter": "python",
   "pygments_lexer": "ipython3",
   "version": "3.10.9"
  }
 },
 "nbformat": 4,
 "nbformat_minor": 5
}
