{
 "cells": [
  {
   "cell_type": "code",
   "execution_count": 1,
   "id": "fcf2c796",
   "metadata": {},
   "outputs": [],
   "source": [
    "#import all libraries including visualization\n",
    "import pandas as pd\n",
    "import numpy as np\n",
    "import os\n",
    "import matplotlib.pyplot as plt\n",
    "import seaborn as sns\n",
    "import scipy"
   ]
  },
  {
   "cell_type": "code",
   "execution_count": 2,
   "id": "707e071b",
   "metadata": {},
   "outputs": [],
   "source": [
    "# Create path to project folder\n",
    "path = r'C:\\Users\\tatal\\06-2023 Instacart Basket Analysis'"
   ]
  },
  {
   "cell_type": "code",
   "execution_count": 3,
   "id": "4c7d045f",
   "metadata": {},
   "outputs": [],
   "source": [
    "#IMPORT part one\n",
    "df_part_one = pd.read_pickle(os.path.join(path, '02 Data', 'Prepared Data', 'df_part_one_v2.pkl'))"
   ]
  },
  {
   "cell_type": "code",
   "execution_count": 11,
   "id": "1b5df22e",
   "metadata": {},
   "outputs": [],
   "source": [
    "#delete_merge column \n",
    "del df_part_one['_merge']"
   ]
  },
  {
   "cell_type": "code",
   "execution_count": 13,
   "id": "d51ada92",
   "metadata": {},
   "outputs": [
    {
     "data": {
      "text/html": [
       "<div>\n",
       "<style scoped>\n",
       "    .dataframe tbody tr th:only-of-type {\n",
       "        vertical-align: middle;\n",
       "    }\n",
       "\n",
       "    .dataframe tbody tr th {\n",
       "        vertical-align: top;\n",
       "    }\n",
       "\n",
       "    .dataframe thead th {\n",
       "        text-align: right;\n",
       "    }\n",
       "</style>\n",
       "<table border=\"1\" class=\"dataframe\">\n",
       "  <thead>\n",
       "    <tr style=\"text-align: right;\">\n",
       "      <th></th>\n",
       "      <th>user_id</th>\n",
       "      <th>Age</th>\n",
       "      <th>n_dependants</th>\n",
       "      <th>income</th>\n",
       "      <th>order_id</th>\n",
       "      <th>order_number</th>\n",
       "      <th>orders_day_of_week</th>\n",
       "      <th>order_hour_of_day</th>\n",
       "      <th>days_since_last_order</th>\n",
       "      <th>product_id</th>\n",
       "      <th>add_to_cart_order</th>\n",
       "      <th>reordered</th>\n",
       "      <th>aisle_id</th>\n",
       "      <th>department_id</th>\n",
       "      <th>prices</th>\n",
       "      <th>max_order</th>\n",
       "      <th>mean_price</th>\n",
       "      <th>median_days_last_order</th>\n",
       "    </tr>\n",
       "  </thead>\n",
       "  <tbody>\n",
       "    <tr>\n",
       "      <th>count</th>\n",
       "      <td>1.620258e+07</td>\n",
       "      <td>1.620258e+07</td>\n",
       "      <td>1.620258e+07</td>\n",
       "      <td>1.620258e+07</td>\n",
       "      <td>1.620258e+07</td>\n",
       "      <td>1.620258e+07</td>\n",
       "      <td>1.620258e+07</td>\n",
       "      <td>1.620258e+07</td>\n",
       "      <td>1.516692e+07</td>\n",
       "      <td>1.620258e+07</td>\n",
       "      <td>1.620258e+07</td>\n",
       "      <td>1.620258e+07</td>\n",
       "      <td>1.620258e+07</td>\n",
       "      <td>1.620258e+07</td>\n",
       "      <td>1.620010e+07</td>\n",
       "      <td>1.620258e+07</td>\n",
       "      <td>1.620258e+07</td>\n",
       "      <td>1.620258e+07</td>\n",
       "    </tr>\n",
       "    <tr>\n",
       "      <th>mean</th>\n",
       "      <td>5.143543e+04</td>\n",
       "      <td>4.953181e+01</td>\n",
       "      <td>1.505995e+00</td>\n",
       "      <td>9.935587e+04</td>\n",
       "      <td>1.711011e+06</td>\n",
       "      <td>1.717462e+01</td>\n",
       "      <td>2.740237e+00</td>\n",
       "      <td>1.342648e+01</td>\n",
       "      <td>1.109487e+01</td>\n",
       "      <td>2.560031e+04</td>\n",
       "      <td>8.344923e+00</td>\n",
       "      <td>5.899881e-01</td>\n",
       "      <td>7.121879e+01</td>\n",
       "      <td>9.919328e+00</td>\n",
       "      <td>7.792292e+00</td>\n",
       "      <td>3.313257e+01</td>\n",
       "      <td>1.152540e+01</td>\n",
       "      <td>1.038758e+01</td>\n",
       "    </tr>\n",
       "    <tr>\n",
       "      <th>std</th>\n",
       "      <td>2.956295e+04</td>\n",
       "      <td>1.848735e+01</td>\n",
       "      <td>1.118212e+00</td>\n",
       "      <td>4.323287e+04</td>\n",
       "      <td>9.873789e+05</td>\n",
       "      <td>1.756365e+01</td>\n",
       "      <td>2.089511e+00</td>\n",
       "      <td>4.244561e+00</td>\n",
       "      <td>8.773778e+00</td>\n",
       "      <td>1.408072e+04</td>\n",
       "      <td>7.112823e+00</td>\n",
       "      <td>4.918355e-01</td>\n",
       "      <td>3.820313e+01</td>\n",
       "      <td>6.281408e+00</td>\n",
       "      <td>4.241080e+00</td>\n",
       "      <td>2.518232e+01</td>\n",
       "      <td>7.650002e+01</td>\n",
       "      <td>7.124607e+00</td>\n",
       "    </tr>\n",
       "    <tr>\n",
       "      <th>min</th>\n",
       "      <td>1.000000e+00</td>\n",
       "      <td>1.800000e+01</td>\n",
       "      <td>0.000000e+00</td>\n",
       "      <td>2.598600e+04</td>\n",
       "      <td>6.000000e+00</td>\n",
       "      <td>1.000000e+00</td>\n",
       "      <td>0.000000e+00</td>\n",
       "      <td>0.000000e+00</td>\n",
       "      <td>0.000000e+00</td>\n",
       "      <td>1.000000e+00</td>\n",
       "      <td>1.000000e+00</td>\n",
       "      <td>0.000000e+00</td>\n",
       "      <td>1.000000e+00</td>\n",
       "      <td>1.000000e+00</td>\n",
       "      <td>1.000000e+00</td>\n",
       "      <td>2.000000e+00</td>\n",
       "      <td>1.000000e+00</td>\n",
       "      <td>0.000000e+00</td>\n",
       "    </tr>\n",
       "    <tr>\n",
       "      <th>25%</th>\n",
       "      <td>2.576200e+04</td>\n",
       "      <td>3.400000e+01</td>\n",
       "      <td>1.000000e+00</td>\n",
       "      <td>6.692700e+04</td>\n",
       "      <td>8.557590e+05</td>\n",
       "      <td>5.000000e+00</td>\n",
       "      <td>1.000000e+00</td>\n",
       "      <td>1.000000e+01</td>\n",
       "      <td>5.000000e+00</td>\n",
       "      <td>1.356000e+04</td>\n",
       "      <td>3.000000e+00</td>\n",
       "      <td>0.000000e+00</td>\n",
       "      <td>3.100000e+01</td>\n",
       "      <td>4.000000e+00</td>\n",
       "      <td>4.200000e+00</td>\n",
       "      <td>1.300000e+01</td>\n",
       "      <td>7.387963e+00</td>\n",
       "      <td>6.000000e+00</td>\n",
       "    </tr>\n",
       "    <tr>\n",
       "      <th>50%</th>\n",
       "      <td>5.142200e+04</td>\n",
       "      <td>4.900000e+01</td>\n",
       "      <td>2.000000e+00</td>\n",
       "      <td>9.657800e+04</td>\n",
       "      <td>1.711201e+06</td>\n",
       "      <td>1.100000e+01</td>\n",
       "      <td>3.000000e+00</td>\n",
       "      <td>1.300000e+01</td>\n",
       "      <td>8.000000e+00</td>\n",
       "      <td>2.530500e+04</td>\n",
       "      <td>6.000000e+00</td>\n",
       "      <td>1.000000e+00</td>\n",
       "      <td>8.300000e+01</td>\n",
       "      <td>9.000000e+00</td>\n",
       "      <td>7.400000e+00</td>\n",
       "      <td>2.600000e+01</td>\n",
       "      <td>7.823490e+00</td>\n",
       "      <td>8.000000e+00</td>\n",
       "    </tr>\n",
       "    <tr>\n",
       "      <th>75%</th>\n",
       "      <td>7.701000e+04</td>\n",
       "      <td>6.600000e+01</td>\n",
       "      <td>3.000000e+00</td>\n",
       "      <td>1.277510e+05</td>\n",
       "      <td>2.566463e+06</td>\n",
       "      <td>2.400000e+01</td>\n",
       "      <td>5.000000e+00</td>\n",
       "      <td>1.600000e+01</td>\n",
       "      <td>1.500000e+01</td>\n",
       "      <td>3.794700e+04</td>\n",
       "      <td>1.100000e+01</td>\n",
       "      <td>1.000000e+00</td>\n",
       "      <td>1.070000e+02</td>\n",
       "      <td>1.600000e+01</td>\n",
       "      <td>1.130000e+01</td>\n",
       "      <td>4.700000e+01</td>\n",
       "      <td>8.254211e+00</td>\n",
       "      <td>1.300000e+01</td>\n",
       "    </tr>\n",
       "    <tr>\n",
       "      <th>max</th>\n",
       "      <td>1.026160e+05</td>\n",
       "      <td>8.100000e+01</td>\n",
       "      <td>3.000000e+00</td>\n",
       "      <td>5.939010e+05</td>\n",
       "      <td>3.421083e+06</td>\n",
       "      <td>9.900000e+01</td>\n",
       "      <td>6.000000e+00</td>\n",
       "      <td>2.300000e+01</td>\n",
       "      <td>3.000000e+01</td>\n",
       "      <td>4.968800e+04</td>\n",
       "      <td>1.450000e+02</td>\n",
       "      <td>1.000000e+00</td>\n",
       "      <td>1.340000e+02</td>\n",
       "      <td>2.100000e+01</td>\n",
       "      <td>2.500000e+01</td>\n",
       "      <td>9.900000e+01</td>\n",
       "      <td>2.500542e+04</td>\n",
       "      <td>3.000000e+01</td>\n",
       "    </tr>\n",
       "  </tbody>\n",
       "</table>\n",
       "</div>"
      ],
      "text/plain": [
       "            user_id           Age  n_dependants        income      order_id  \\\n",
       "count  1.620258e+07  1.620258e+07  1.620258e+07  1.620258e+07  1.620258e+07   \n",
       "mean   5.143543e+04  4.953181e+01  1.505995e+00  9.935587e+04  1.711011e+06   \n",
       "std    2.956295e+04  1.848735e+01  1.118212e+00  4.323287e+04  9.873789e+05   \n",
       "min    1.000000e+00  1.800000e+01  0.000000e+00  2.598600e+04  6.000000e+00   \n",
       "25%    2.576200e+04  3.400000e+01  1.000000e+00  6.692700e+04  8.557590e+05   \n",
       "50%    5.142200e+04  4.900000e+01  2.000000e+00  9.657800e+04  1.711201e+06   \n",
       "75%    7.701000e+04  6.600000e+01  3.000000e+00  1.277510e+05  2.566463e+06   \n",
       "max    1.026160e+05  8.100000e+01  3.000000e+00  5.939010e+05  3.421083e+06   \n",
       "\n",
       "       order_number  orders_day_of_week  order_hour_of_day  \\\n",
       "count  1.620258e+07        1.620258e+07       1.620258e+07   \n",
       "mean   1.717462e+01        2.740237e+00       1.342648e+01   \n",
       "std    1.756365e+01        2.089511e+00       4.244561e+00   \n",
       "min    1.000000e+00        0.000000e+00       0.000000e+00   \n",
       "25%    5.000000e+00        1.000000e+00       1.000000e+01   \n",
       "50%    1.100000e+01        3.000000e+00       1.300000e+01   \n",
       "75%    2.400000e+01        5.000000e+00       1.600000e+01   \n",
       "max    9.900000e+01        6.000000e+00       2.300000e+01   \n",
       "\n",
       "       days_since_last_order    product_id  add_to_cart_order     reordered  \\\n",
       "count           1.516692e+07  1.620258e+07       1.620258e+07  1.620258e+07   \n",
       "mean            1.109487e+01  2.560031e+04       8.344923e+00  5.899881e-01   \n",
       "std             8.773778e+00  1.408072e+04       7.112823e+00  4.918355e-01   \n",
       "min             0.000000e+00  1.000000e+00       1.000000e+00  0.000000e+00   \n",
       "25%             5.000000e+00  1.356000e+04       3.000000e+00  0.000000e+00   \n",
       "50%             8.000000e+00  2.530500e+04       6.000000e+00  1.000000e+00   \n",
       "75%             1.500000e+01  3.794700e+04       1.100000e+01  1.000000e+00   \n",
       "max             3.000000e+01  4.968800e+04       1.450000e+02  1.000000e+00   \n",
       "\n",
       "           aisle_id  department_id        prices     max_order    mean_price  \\\n",
       "count  1.620258e+07   1.620258e+07  1.620010e+07  1.620258e+07  1.620258e+07   \n",
       "mean   7.121879e+01   9.919328e+00  7.792292e+00  3.313257e+01  1.152540e+01   \n",
       "std    3.820313e+01   6.281408e+00  4.241080e+00  2.518232e+01  7.650002e+01   \n",
       "min    1.000000e+00   1.000000e+00  1.000000e+00  2.000000e+00  1.000000e+00   \n",
       "25%    3.100000e+01   4.000000e+00  4.200000e+00  1.300000e+01  7.387963e+00   \n",
       "50%    8.300000e+01   9.000000e+00  7.400000e+00  2.600000e+01  7.823490e+00   \n",
       "75%    1.070000e+02   1.600000e+01  1.130000e+01  4.700000e+01  8.254211e+00   \n",
       "max    1.340000e+02   2.100000e+01  2.500000e+01  9.900000e+01  2.500542e+04   \n",
       "\n",
       "       median_days_last_order  \n",
       "count            1.620258e+07  \n",
       "mean             1.038758e+01  \n",
       "std              7.124607e+00  \n",
       "min              0.000000e+00  \n",
       "25%              6.000000e+00  \n",
       "50%              8.000000e+00  \n",
       "75%              1.300000e+01  \n",
       "max              3.000000e+01  "
      ]
     },
     "execution_count": 13,
     "metadata": {},
     "output_type": "execute_result"
    }
   ],
   "source": [
    "df_part_one.describe()"
   ]
  },
  {
   "cell_type": "code",
   "execution_count": 66,
   "id": "fef10b6c",
   "metadata": {},
   "outputs": [
    {
     "data": {
      "text/plain": [
       "99"
      ]
     },
     "execution_count": 66,
     "metadata": {},
     "output_type": "execute_result"
    }
   ],
   "source": [
    "df_part_one['max_order'].max()"
   ]
  },
  {
   "cell_type": "code",
   "execution_count": 4,
   "id": "0b177285",
   "metadata": {},
   "outputs": [
    {
     "data": {
      "text/plain": [
       "user_id                     int32\n",
       "first_name                 object\n",
       "last_name                  object\n",
       "Gender                     object\n",
       "STATE                      object\n",
       "Age                         int16\n",
       "date_joined                object\n",
       "n_dependants                 int8\n",
       "fam_status                 object\n",
       "income                      int32\n",
       "order_id                    int32\n",
       "order_number                int16\n",
       "orders_day_of_week           int8\n",
       "order_hour_of_day            int8\n",
       "days_since_last_order     float32\n",
       "product_id                  int16\n",
       "add_to_cart_order           int16\n",
       "reordered                    int8\n",
       "product_name               object\n",
       "aisle_id                    int16\n",
       "department_id                int8\n",
       "prices                    float32\n",
       "price_range_loc            object\n",
       "busiest_day                object\n",
       "Busiest_days               object\n",
       "busiest_period_of_day      object\n",
       "max_order                   int16\n",
       "loyalty_flag               object\n",
       "mean_price                float32\n",
       "spending_flag              object\n",
       "median_days_last_order    float32\n",
       "frequency_flag             object\n",
       "dtype: object"
      ]
     },
     "execution_count": 4,
     "metadata": {},
     "output_type": "execute_result"
    }
   ],
   "source": [
    "df_part_one.dtypes"
   ]
  },
  {
   "cell_type": "code",
   "execution_count": 19,
   "id": "8949b689",
   "metadata": {},
   "outputs": [],
   "source": [
    "# change type of user id to int64 to match orders file\n",
    "df_part_one['user_id'] = df_part_one['user_id'].astype('int32')"
   ]
  },
  {
   "cell_type": "code",
   "execution_count": 21,
   "id": "feaf0a80",
   "metadata": {},
   "outputs": [],
   "source": [
    "# change type of user id to int64 to match orders file\n",
    "df_part_one['Age'] = df_part_one['Age'].astype('int16')"
   ]
  },
  {
   "cell_type": "code",
   "execution_count": 28,
   "id": "523f31b6",
   "metadata": {},
   "outputs": [],
   "source": [
    "# change type of user id to int64 to match orders file\n",
    "df_part_one['order_id'] = df_part_one['order_id'].astype('int32')"
   ]
  },
  {
   "cell_type": "code",
   "execution_count": 29,
   "id": "7ab38244",
   "metadata": {},
   "outputs": [],
   "source": [
    "# change type of user id to int64 to match orders file\n",
    "df_part_one['income'] = df_part_one['income'].astype('int32')"
   ]
  },
  {
   "cell_type": "code",
   "execution_count": 32,
   "id": "2645b410",
   "metadata": {},
   "outputs": [],
   "source": [
    "# change type of user id to int64 to match orders file\n",
    "df_part_one['n_dependants'] = df_part_one['n_dependants'].astype('int8')"
   ]
  },
  {
   "cell_type": "code",
   "execution_count": 35,
   "id": "4f5e6b4b",
   "metadata": {},
   "outputs": [],
   "source": [
    "# change type of user id to int64 to match orders file\n",
    "df_part_one['order_number'] = df_part_one['order_number'].astype('int16')"
   ]
  },
  {
   "cell_type": "code",
   "execution_count": 38,
   "id": "a5fe4842",
   "metadata": {},
   "outputs": [],
   "source": [
    "# change type of user id to int64 to match orders file\n",
    "df_part_one['orders_day_of_week'] = df_part_one['orders_day_of_week'].astype('int8')"
   ]
  },
  {
   "cell_type": "code",
   "execution_count": 42,
   "id": "d1daf64f",
   "metadata": {},
   "outputs": [],
   "source": [
    "# change type of user id to int64 to match orders file\n",
    "df_part_one['order_hour_of_day'] = df_part_one['order_hour_of_day'].astype('int8')"
   ]
  },
  {
   "cell_type": "code",
   "execution_count": 44,
   "id": "4abecf0a",
   "metadata": {},
   "outputs": [],
   "source": [
    "# change type of user id to int64 to match orders file\n",
    "df_part_one['days_since_last_order'] = df_part_one['days_since_last_order'].astype('float32')"
   ]
  },
  {
   "cell_type": "code",
   "execution_count": 47,
   "id": "1fe58319",
   "metadata": {},
   "outputs": [],
   "source": [
    "df_part_one['product_id'] = df_part_one['product_id'].astype('int16')"
   ]
  },
  {
   "cell_type": "code",
   "execution_count": 50,
   "id": "8384d19e",
   "metadata": {},
   "outputs": [],
   "source": [
    "df_part_one['add_to_cart_order'] = df_part_one['add_to_cart_order'].astype('int16')"
   ]
  },
  {
   "cell_type": "code",
   "execution_count": 55,
   "id": "c7f46b3c",
   "metadata": {},
   "outputs": [],
   "source": [
    "df_part_one['reordered'] = df_part_one['reordered'].astype('int8')"
   ]
  },
  {
   "cell_type": "code",
   "execution_count": 58,
   "id": "e11941e8",
   "metadata": {},
   "outputs": [],
   "source": [
    "df_part_one['aisle_id'] = df_part_one['aisle_id'].astype('int16')"
   ]
  },
  {
   "cell_type": "code",
   "execution_count": 61,
   "id": "655fb1bd",
   "metadata": {},
   "outputs": [],
   "source": [
    "df_part_one['department_id'] = df_part_one['department_id'].astype('int8')"
   ]
  },
  {
   "cell_type": "code",
   "execution_count": 64,
   "id": "fe8992a0",
   "metadata": {},
   "outputs": [],
   "source": [
    "df_part_one['prices'] = df_part_one['prices'].astype('float32')"
   ]
  },
  {
   "cell_type": "code",
   "execution_count": 67,
   "id": "f62ace9e",
   "metadata": {},
   "outputs": [],
   "source": [
    "df_part_one['max_order'] = df_part_one['max_order'].astype('int16')"
   ]
  },
  {
   "cell_type": "code",
   "execution_count": 71,
   "id": "5327d9d8",
   "metadata": {},
   "outputs": [],
   "source": [
    "df_part_one['mean_price'] = df_part_one['mean_price'].astype('float32')"
   ]
  },
  {
   "cell_type": "code",
   "execution_count": 72,
   "id": "a7359627",
   "metadata": {},
   "outputs": [],
   "source": [
    "df_part_one['median_days_last_order'] = df_part_one['median_days_last_order'].astype('float32')"
   ]
  },
  {
   "cell_type": "code",
   "execution_count": 75,
   "id": "ad8a7809",
   "metadata": {},
   "outputs": [],
   "source": [
    "#export first product order id\n",
    "df_part_one.to_pickle(os.path.join(path, '02 Data','Prepared Data', 'df_part_one_v2.pkl'))"
   ]
  },
  {
   "cell_type": "code",
   "execution_count": 5,
   "id": "36724f6f",
   "metadata": {},
   "outputs": [],
   "source": [
    "#IMPORT part two\n",
    "df_part_two = pd.read_pickle(os.path.join(path, '02 Data', 'Prepared Data', 'df_part_two_v3.pkl'))"
   ]
  },
  {
   "cell_type": "code",
   "execution_count": 78,
   "id": "8e63a232",
   "metadata": {},
   "outputs": [],
   "source": [
    "#delete_merge column \n",
    "del df_part_two['_merge']"
   ]
  },
  {
   "cell_type": "code",
   "execution_count": 6,
   "id": "9c6abae1",
   "metadata": {},
   "outputs": [
    {
     "data": {
      "text/plain": [
       "user_id                     int32\n",
       "first_name                 object\n",
       "last_name                  object\n",
       "Gender                     object\n",
       "STATE                      object\n",
       "Age                         int16\n",
       "date_joined                object\n",
       "n_dependants                 int8\n",
       "fam_status                 object\n",
       "income                      int32\n",
       "order_id                    int32\n",
       "order_number                int16\n",
       "orders_day_of_week           int8\n",
       "order_hour_of_day            int8\n",
       "days_since_last_order     float32\n",
       "product_id                  int16\n",
       "add_to_cart_order           int16\n",
       "reordered                    int8\n",
       "product_name               object\n",
       "aisle_id                    int16\n",
       "department_id                int8\n",
       "prices                    float32\n",
       "price_range_loc            object\n",
       "busiest_day                object\n",
       "Busiest_days               object\n",
       "busiest_period_of_day      object\n",
       "max_order                   int16\n",
       "loyalty_flag               object\n",
       "mean_price                float32\n",
       "spending_flag              object\n",
       "median_days_last_order    float32\n",
       "frequency_flag             object\n",
       "dtype: object"
      ]
     },
     "execution_count": 6,
     "metadata": {},
     "output_type": "execute_result"
    }
   ],
   "source": [
    "df_part_two.dtypes"
   ]
  },
  {
   "cell_type": "code",
   "execution_count": 80,
   "id": "6435439c",
   "metadata": {},
   "outputs": [],
   "source": [
    "# change type of user id to int64 to match orders file\n",
    "df_part_two['user_id'] = df_part_two['user_id'].astype('int32')"
   ]
  },
  {
   "cell_type": "code",
   "execution_count": 82,
   "id": "b06e4795",
   "metadata": {},
   "outputs": [],
   "source": [
    "# change type of user id to int64 to match orders file\n",
    "df_part_two['Age'] = df_part_two['Age'].astype('int16')"
   ]
  },
  {
   "cell_type": "code",
   "execution_count": 84,
   "id": "26974a0a",
   "metadata": {},
   "outputs": [],
   "source": [
    "# change type of user id to int64 to match orders file\n",
    "df_part_two['order_id'] = df_part_two['order_id'].astype('int32')"
   ]
  },
  {
   "cell_type": "code",
   "execution_count": 86,
   "id": "a394649d",
   "metadata": {},
   "outputs": [],
   "source": [
    "# change type of user id to int64 to match orders file\n",
    "df_part_two['income'] = df_part_two['income'].astype('int32')"
   ]
  },
  {
   "cell_type": "code",
   "execution_count": 88,
   "id": "22819e6f",
   "metadata": {},
   "outputs": [],
   "source": [
    "# change type of user id to int64 to match orders file\n",
    "df_part_two['n_dependants'] = df_part_two['n_dependants'].astype('int8')"
   ]
  },
  {
   "cell_type": "code",
   "execution_count": 90,
   "id": "71c86834",
   "metadata": {},
   "outputs": [],
   "source": [
    "# change type of user id to int64 to match orders file\n",
    "df_part_two['order_number'] = df_part_two['order_number'].astype('int16')"
   ]
  },
  {
   "cell_type": "code",
   "execution_count": 92,
   "id": "2deb6c5b",
   "metadata": {},
   "outputs": [],
   "source": [
    "# change type of user id to int64 to match orders file\n",
    "df_part_two['orders_day_of_week'] = df_part_two['orders_day_of_week'].astype('int8')"
   ]
  },
  {
   "cell_type": "code",
   "execution_count": 94,
   "id": "49d7940f",
   "metadata": {},
   "outputs": [],
   "source": [
    "# change type of user id to int64 to match orders file\n",
    "df_part_two['order_hour_of_day'] = df_part_two['order_hour_of_day'].astype('int8')"
   ]
  },
  {
   "cell_type": "code",
   "execution_count": 95,
   "id": "c49b15fc",
   "metadata": {},
   "outputs": [],
   "source": [
    "# change type of user id to int64 to match orders file\n",
    "df_part_two['days_since_last_order'] = df_part_two['days_since_last_order'].astype('float32')"
   ]
  },
  {
   "cell_type": "code",
   "execution_count": 96,
   "id": "8594d101",
   "metadata": {},
   "outputs": [],
   "source": [
    "df_part_two['product_id'] = df_part_two['product_id'].astype('int16')"
   ]
  },
  {
   "cell_type": "code",
   "execution_count": 97,
   "id": "5d5d761f",
   "metadata": {},
   "outputs": [],
   "source": [
    "df_part_two['add_to_cart_order'] = df_part_two['add_to_cart_order'].astype('int16')"
   ]
  },
  {
   "cell_type": "code",
   "execution_count": 99,
   "id": "d74634a4",
   "metadata": {},
   "outputs": [],
   "source": [
    "df_part_two['reordered'] = df_part_two['reordered'].astype('int8')"
   ]
  },
  {
   "cell_type": "code",
   "execution_count": 100,
   "id": "48acf676",
   "metadata": {},
   "outputs": [],
   "source": [
    "df_part_two['aisle_id'] = df_part_two['aisle_id'].astype('int16')"
   ]
  },
  {
   "cell_type": "code",
   "execution_count": 101,
   "id": "973b7668",
   "metadata": {},
   "outputs": [],
   "source": [
    "df_part_two['department_id'] = df_part_two['department_id'].astype('int8')"
   ]
  },
  {
   "cell_type": "code",
   "execution_count": 102,
   "id": "bfee7498",
   "metadata": {},
   "outputs": [],
   "source": [
    "df_part_two['prices'] = df_part_two['prices'].astype('float32')"
   ]
  },
  {
   "cell_type": "code",
   "execution_count": 104,
   "id": "6a5807cb",
   "metadata": {},
   "outputs": [],
   "source": [
    "df_part_two['max_order'] = df_part_two['max_order'].astype('int16')"
   ]
  },
  {
   "cell_type": "code",
   "execution_count": 105,
   "id": "c37cb01c",
   "metadata": {},
   "outputs": [],
   "source": [
    "df_part_two['mean_price'] = df_part_two['mean_price'].astype('float32')"
   ]
  },
  {
   "cell_type": "code",
   "execution_count": 107,
   "id": "7648e87d",
   "metadata": {},
   "outputs": [],
   "source": [
    "df_part_two['median_days_last_order'] = df_part_two['median_days_last_order'].astype('float32')"
   ]
  },
  {
   "cell_type": "code",
   "execution_count": 114,
   "id": "f7470198",
   "metadata": {},
   "outputs": [],
   "source": [
    "#export first product order id\n",
    "df_part_two.to_pickle(os.path.join(path, '02 Data','Prepared Data', 'df_part_two_v3.pkl'))"
   ]
  },
  {
   "cell_type": "code",
   "execution_count": 115,
   "id": "2a73c7df",
   "metadata": {},
   "outputs": [
    {
     "data": {
      "text/plain": [
       "(16202575, 32)"
      ]
     },
     "execution_count": 115,
     "metadata": {},
     "output_type": "execute_result"
    }
   ],
   "source": [
    "df_part_one.shape"
   ]
  },
  {
   "cell_type": "code",
   "execution_count": 116,
   "id": "ed006636",
   "metadata": {},
   "outputs": [
    {
     "data": {
      "text/plain": [
       "(16202284, 32)"
      ]
     },
     "execution_count": 116,
     "metadata": {},
     "output_type": "execute_result"
    }
   ],
   "source": [
    "df_part_two.shape"
   ]
  },
  {
   "cell_type": "code",
   "execution_count": 117,
   "id": "efe4f4f5",
   "metadata": {},
   "outputs": [
    {
     "data": {
      "text/plain": [
       "102616"
      ]
     },
     "execution_count": 117,
     "metadata": {},
     "output_type": "execute_result"
    }
   ],
   "source": [
    "df_part_one['user_id'].max()"
   ]
  },
  {
   "cell_type": "code",
   "execution_count": 118,
   "id": "8dcc49cc",
   "metadata": {},
   "outputs": [
    {
     "data": {
      "text/plain": [
       "1"
      ]
     },
     "execution_count": 118,
     "metadata": {},
     "output_type": "execute_result"
    }
   ],
   "source": [
    "df_part_one['user_id'].min()"
   ]
  },
  {
   "cell_type": "code",
   "execution_count": 9,
   "id": "94609274",
   "metadata": {},
   "outputs": [
    {
     "data": {
      "text/plain": [
       "102617"
      ]
     },
     "execution_count": 9,
     "metadata": {},
     "output_type": "execute_result"
    }
   ],
   "source": [
    "df_part_two['user_id'].min()"
   ]
  },
  {
   "cell_type": "code",
   "execution_count": 10,
   "id": "50a5ce69",
   "metadata": {},
   "outputs": [
    {
     "data": {
      "text/plain": [
       "206209"
      ]
     },
     "execution_count": 10,
     "metadata": {},
     "output_type": "execute_result"
    }
   ],
   "source": [
    "df_part_two['user_id'].max()"
   ]
  },
  {
   "cell_type": "code",
   "execution_count": 7,
   "id": "4af61567",
   "metadata": {},
   "outputs": [],
   "source": [
    "#create a list containing the database we want to concat\n",
    "frames = [df_part_one, df_part_two]"
   ]
  },
  {
   "cell_type": "code",
   "execution_count": 8,
   "id": "b8168728",
   "metadata": {},
   "outputs": [],
   "source": [
    "# use df_concat to concat the list\n",
    "df_concat = pd.concat(frames)"
   ]
  },
  {
   "cell_type": "code",
   "execution_count": 9,
   "id": "c1df93ca",
   "metadata": {},
   "outputs": [
    {
     "data": {
      "text/plain": [
       "(32404859, 32)"
      ]
     },
     "execution_count": 9,
     "metadata": {},
     "output_type": "execute_result"
    }
   ],
   "source": [
    "df_concat.shape"
   ]
  },
  {
   "cell_type": "code",
   "execution_count": 14,
   "id": "33c0d4db",
   "metadata": {},
   "outputs": [
    {
     "data": {
      "text/html": [
       "<div>\n",
       "<style scoped>\n",
       "    .dataframe tbody tr th:only-of-type {\n",
       "        vertical-align: middle;\n",
       "    }\n",
       "\n",
       "    .dataframe tbody tr th {\n",
       "        vertical-align: top;\n",
       "    }\n",
       "\n",
       "    .dataframe thead th {\n",
       "        text-align: right;\n",
       "    }\n",
       "</style>\n",
       "<table border=\"1\" class=\"dataframe\">\n",
       "  <thead>\n",
       "    <tr style=\"text-align: right;\">\n",
       "      <th></th>\n",
       "      <th>user_id</th>\n",
       "      <th>first_name</th>\n",
       "      <th>last_name</th>\n",
       "      <th>Gender</th>\n",
       "      <th>STATE</th>\n",
       "      <th>Age</th>\n",
       "      <th>date_joined</th>\n",
       "      <th>n_dependants</th>\n",
       "      <th>fam_status</th>\n",
       "      <th>income</th>\n",
       "      <th>...</th>\n",
       "      <th>busiest_day</th>\n",
       "      <th>Busiest_days</th>\n",
       "      <th>busiest_period_of_day</th>\n",
       "      <th>max_order</th>\n",
       "      <th>loyalty_flag</th>\n",
       "      <th>mean_price</th>\n",
       "      <th>spending_flag</th>\n",
       "      <th>median_days_last_order</th>\n",
       "      <th>frequency_flag</th>\n",
       "      <th>_merge</th>\n",
       "    </tr>\n",
       "  </thead>\n",
       "  <tbody>\n",
       "    <tr>\n",
       "      <th>0</th>\n",
       "      <td>26711</td>\n",
       "      <td>Deborah</td>\n",
       "      <td>Esquivel</td>\n",
       "      <td>Female</td>\n",
       "      <td>Missouri</td>\n",
       "      <td>48</td>\n",
       "      <td>1/1/2017</td>\n",
       "      <td>3</td>\n",
       "      <td>married</td>\n",
       "      <td>165665</td>\n",
       "      <td>...</td>\n",
       "      <td>Regularly busy</td>\n",
       "      <td>Busiest days</td>\n",
       "      <td>most orders</td>\n",
       "      <td>8</td>\n",
       "      <td>New customer</td>\n",
       "      <td>7.988889</td>\n",
       "      <td>Low spender</td>\n",
       "      <td>19.0</td>\n",
       "      <td>Regular customer</td>\n",
       "      <td>both</td>\n",
       "    </tr>\n",
       "    <tr>\n",
       "      <th>1</th>\n",
       "      <td>26711</td>\n",
       "      <td>Deborah</td>\n",
       "      <td>Esquivel</td>\n",
       "      <td>Female</td>\n",
       "      <td>Missouri</td>\n",
       "      <td>48</td>\n",
       "      <td>1/1/2017</td>\n",
       "      <td>3</td>\n",
       "      <td>married</td>\n",
       "      <td>165665</td>\n",
       "      <td>...</td>\n",
       "      <td>Regularly busy</td>\n",
       "      <td>Regularly busy days</td>\n",
       "      <td>most orders</td>\n",
       "      <td>8</td>\n",
       "      <td>New customer</td>\n",
       "      <td>7.988889</td>\n",
       "      <td>Low spender</td>\n",
       "      <td>19.0</td>\n",
       "      <td>Regular customer</td>\n",
       "      <td>both</td>\n",
       "    </tr>\n",
       "    <tr>\n",
       "      <th>2</th>\n",
       "      <td>26711</td>\n",
       "      <td>Deborah</td>\n",
       "      <td>Esquivel</td>\n",
       "      <td>Female</td>\n",
       "      <td>Missouri</td>\n",
       "      <td>48</td>\n",
       "      <td>1/1/2017</td>\n",
       "      <td>3</td>\n",
       "      <td>married</td>\n",
       "      <td>165665</td>\n",
       "      <td>...</td>\n",
       "      <td>Regularly busy</td>\n",
       "      <td>Busiest days</td>\n",
       "      <td>most orders</td>\n",
       "      <td>8</td>\n",
       "      <td>New customer</td>\n",
       "      <td>7.988889</td>\n",
       "      <td>Low spender</td>\n",
       "      <td>19.0</td>\n",
       "      <td>Regular customer</td>\n",
       "      <td>both</td>\n",
       "    </tr>\n",
       "    <tr>\n",
       "      <th>3</th>\n",
       "      <td>26711</td>\n",
       "      <td>Deborah</td>\n",
       "      <td>Esquivel</td>\n",
       "      <td>Female</td>\n",
       "      <td>Missouri</td>\n",
       "      <td>48</td>\n",
       "      <td>1/1/2017</td>\n",
       "      <td>3</td>\n",
       "      <td>married</td>\n",
       "      <td>165665</td>\n",
       "      <td>...</td>\n",
       "      <td>Regularly busy</td>\n",
       "      <td>Regularly busy days</td>\n",
       "      <td>most orders</td>\n",
       "      <td>8</td>\n",
       "      <td>New customer</td>\n",
       "      <td>7.988889</td>\n",
       "      <td>Low spender</td>\n",
       "      <td>19.0</td>\n",
       "      <td>Regular customer</td>\n",
       "      <td>both</td>\n",
       "    </tr>\n",
       "    <tr>\n",
       "      <th>4</th>\n",
       "      <td>26711</td>\n",
       "      <td>Deborah</td>\n",
       "      <td>Esquivel</td>\n",
       "      <td>Female</td>\n",
       "      <td>Missouri</td>\n",
       "      <td>48</td>\n",
       "      <td>1/1/2017</td>\n",
       "      <td>3</td>\n",
       "      <td>married</td>\n",
       "      <td>165665</td>\n",
       "      <td>...</td>\n",
       "      <td>Regularly busy</td>\n",
       "      <td>Least busy days</td>\n",
       "      <td>most orders</td>\n",
       "      <td>8</td>\n",
       "      <td>New customer</td>\n",
       "      <td>7.988889</td>\n",
       "      <td>Low spender</td>\n",
       "      <td>19.0</td>\n",
       "      <td>Regular customer</td>\n",
       "      <td>both</td>\n",
       "    </tr>\n",
       "  </tbody>\n",
       "</table>\n",
       "<p>5 rows × 33 columns</p>\n",
       "</div>"
      ],
      "text/plain": [
       "   user_id first_name last_name  Gender     STATE  Age date_joined  \\\n",
       "0    26711    Deborah  Esquivel  Female  Missouri   48    1/1/2017   \n",
       "1    26711    Deborah  Esquivel  Female  Missouri   48    1/1/2017   \n",
       "2    26711    Deborah  Esquivel  Female  Missouri   48    1/1/2017   \n",
       "3    26711    Deborah  Esquivel  Female  Missouri   48    1/1/2017   \n",
       "4    26711    Deborah  Esquivel  Female  Missouri   48    1/1/2017   \n",
       "\n",
       "   n_dependants fam_status  income  ...     busiest_day         Busiest_days  \\\n",
       "0             3    married  165665  ...  Regularly busy         Busiest days   \n",
       "1             3    married  165665  ...  Regularly busy  Regularly busy days   \n",
       "2             3    married  165665  ...  Regularly busy         Busiest days   \n",
       "3             3    married  165665  ...  Regularly busy  Regularly busy days   \n",
       "4             3    married  165665  ...  Regularly busy      Least busy days   \n",
       "\n",
       "   busiest_period_of_day  max_order  loyalty_flag  mean_price  spending_flag  \\\n",
       "0            most orders          8  New customer    7.988889    Low spender   \n",
       "1            most orders          8  New customer    7.988889    Low spender   \n",
       "2            most orders          8  New customer    7.988889    Low spender   \n",
       "3            most orders          8  New customer    7.988889    Low spender   \n",
       "4            most orders          8  New customer    7.988889    Low spender   \n",
       "\n",
       "   median_days_last_order    frequency_flag  _merge  \n",
       "0                    19.0  Regular customer    both  \n",
       "1                    19.0  Regular customer    both  \n",
       "2                    19.0  Regular customer    both  \n",
       "3                    19.0  Regular customer    both  \n",
       "4                    19.0  Regular customer    both  \n",
       "\n",
       "[5 rows x 33 columns]"
      ]
     },
     "execution_count": 14,
     "metadata": {},
     "output_type": "execute_result"
    }
   ],
   "source": [
    "df_concat.head()"
   ]
  },
  {
   "cell_type": "code",
   "execution_count": 122,
   "id": "e6d03b70",
   "metadata": {},
   "outputs": [
    {
     "data": {
      "text/plain": [
       "1"
      ]
     },
     "execution_count": 122,
     "metadata": {},
     "output_type": "execute_result"
    }
   ],
   "source": [
    "df_concat['user_id'].min()"
   ]
  },
  {
   "cell_type": "code",
   "execution_count": 123,
   "id": "817b3fa5",
   "metadata": {},
   "outputs": [
    {
     "data": {
      "text/plain": [
       "206209"
      ]
     },
     "execution_count": 123,
     "metadata": {},
     "output_type": "execute_result"
    }
   ],
   "source": [
    "df_concat['user_id'].max()"
   ]
  },
  {
   "cell_type": "code",
   "execution_count": 8,
   "id": "31e89c31",
   "metadata": {},
   "outputs": [],
   "source": [
    "#create a sample of the data - 70/30 sample\n",
    "np.random.seed(4)\n",
    "dev = np.random.rand(len(df_concat)) <= 0.7"
   ]
  },
  {
   "cell_type": "code",
   "execution_count": 18,
   "id": "cfd7194d",
   "metadata": {},
   "outputs": [
    {
     "ename": "MemoryError",
     "evalue": "Unable to allocate 989. MiB for an array with shape (4, 32404859) and data type float64",
     "output_type": "error",
     "traceback": [
      "\u001b[1;31m---------------------------------------------------------------------------\u001b[0m",
      "\u001b[1;31mMemoryError\u001b[0m                               Traceback (most recent call last)",
      "Cell \u001b[1;32mIn[18], line 2\u001b[0m\n\u001b[0;32m      1\u001b[0m \u001b[38;5;66;03m##small sample\u001b[39;00m\n\u001b[1;32m----> 2\u001b[0m small \u001b[38;5;241m=\u001b[39m \u001b[43mdf_concat\u001b[49m\u001b[43m[\u001b[49m\u001b[38;5;241;43m~\u001b[39;49m\u001b[43mdev\u001b[49m\u001b[43m]\u001b[49m\n",
      "File \u001b[1;32m~\\anaconda3\\lib\\site-packages\\pandas\\core\\frame.py:3798\u001b[0m, in \u001b[0;36mDataFrame.__getitem__\u001b[1;34m(self, key)\u001b[0m\n\u001b[0;32m   3796\u001b[0m \u001b[38;5;66;03m# Do we have a (boolean) 1d indexer?\u001b[39;00m\n\u001b[0;32m   3797\u001b[0m \u001b[38;5;28;01mif\u001b[39;00m com\u001b[38;5;241m.\u001b[39mis_bool_indexer(key):\n\u001b[1;32m-> 3798\u001b[0m     \u001b[38;5;28;01mreturn\u001b[39;00m \u001b[38;5;28;43mself\u001b[39;49m\u001b[38;5;241;43m.\u001b[39;49m\u001b[43m_getitem_bool_array\u001b[49m\u001b[43m(\u001b[49m\u001b[43mkey\u001b[49m\u001b[43m)\u001b[49m\n\u001b[0;32m   3800\u001b[0m \u001b[38;5;66;03m# We are left with two options: a single key, and a collection of keys,\u001b[39;00m\n\u001b[0;32m   3801\u001b[0m \u001b[38;5;66;03m# We interpret tuples as collections only for non-MultiIndex\u001b[39;00m\n\u001b[0;32m   3802\u001b[0m is_single_key \u001b[38;5;241m=\u001b[39m \u001b[38;5;28misinstance\u001b[39m(key, \u001b[38;5;28mtuple\u001b[39m) \u001b[38;5;129;01mor\u001b[39;00m \u001b[38;5;129;01mnot\u001b[39;00m is_list_like(key)\n",
      "File \u001b[1;32m~\\anaconda3\\lib\\site-packages\\pandas\\core\\frame.py:3853\u001b[0m, in \u001b[0;36mDataFrame._getitem_bool_array\u001b[1;34m(self, key)\u001b[0m\n\u001b[0;32m   3851\u001b[0m key \u001b[38;5;241m=\u001b[39m check_bool_indexer(\u001b[38;5;28mself\u001b[39m\u001b[38;5;241m.\u001b[39mindex, key)\n\u001b[0;32m   3852\u001b[0m indexer \u001b[38;5;241m=\u001b[39m key\u001b[38;5;241m.\u001b[39mnonzero()[\u001b[38;5;241m0\u001b[39m]\n\u001b[1;32m-> 3853\u001b[0m \u001b[38;5;28;01mreturn\u001b[39;00m \u001b[38;5;28;43mself\u001b[39;49m\u001b[38;5;241;43m.\u001b[39;49m\u001b[43m_take_with_is_copy\u001b[49m\u001b[43m(\u001b[49m\u001b[43mindexer\u001b[49m\u001b[43m,\u001b[49m\u001b[43m \u001b[49m\u001b[43maxis\u001b[49m\u001b[38;5;241;43m=\u001b[39;49m\u001b[38;5;241;43m0\u001b[39;49m\u001b[43m)\u001b[49m\n",
      "File \u001b[1;32m~\\anaconda3\\lib\\site-packages\\pandas\\core\\generic.py:3902\u001b[0m, in \u001b[0;36mNDFrame._take_with_is_copy\u001b[1;34m(self, indices, axis)\u001b[0m\n\u001b[0;32m   3894\u001b[0m \u001b[38;5;28;01mdef\u001b[39;00m \u001b[38;5;21m_take_with_is_copy\u001b[39m(\u001b[38;5;28mself\u001b[39m: NDFrameT, indices, axis\u001b[38;5;241m=\u001b[39m\u001b[38;5;241m0\u001b[39m) \u001b[38;5;241m-\u001b[39m\u001b[38;5;241m>\u001b[39m NDFrameT:\n\u001b[0;32m   3895\u001b[0m     \u001b[38;5;124;03m\"\"\"\u001b[39;00m\n\u001b[0;32m   3896\u001b[0m \u001b[38;5;124;03m    Internal version of the `take` method that sets the `_is_copy`\u001b[39;00m\n\u001b[0;32m   3897\u001b[0m \u001b[38;5;124;03m    attribute to keep track of the parent dataframe (using in indexing\u001b[39;00m\n\u001b[1;32m   (...)\u001b[0m\n\u001b[0;32m   3900\u001b[0m \u001b[38;5;124;03m    See the docstring of `take` for full explanation of the parameters.\u001b[39;00m\n\u001b[0;32m   3901\u001b[0m \u001b[38;5;124;03m    \"\"\"\u001b[39;00m\n\u001b[1;32m-> 3902\u001b[0m     result \u001b[38;5;241m=\u001b[39m \u001b[38;5;28;43mself\u001b[39;49m\u001b[38;5;241;43m.\u001b[39;49m\u001b[43m_take\u001b[49m\u001b[43m(\u001b[49m\u001b[43mindices\u001b[49m\u001b[38;5;241;43m=\u001b[39;49m\u001b[43mindices\u001b[49m\u001b[43m,\u001b[49m\u001b[43m \u001b[49m\u001b[43maxis\u001b[49m\u001b[38;5;241;43m=\u001b[39;49m\u001b[43maxis\u001b[49m\u001b[43m)\u001b[49m\n\u001b[0;32m   3903\u001b[0m     \u001b[38;5;66;03m# Maybe set copy if we didn't actually change the index.\u001b[39;00m\n\u001b[0;32m   3904\u001b[0m     \u001b[38;5;28;01mif\u001b[39;00m \u001b[38;5;129;01mnot\u001b[39;00m result\u001b[38;5;241m.\u001b[39m_get_axis(axis)\u001b[38;5;241m.\u001b[39mequals(\u001b[38;5;28mself\u001b[39m\u001b[38;5;241m.\u001b[39m_get_axis(axis)):\n",
      "File \u001b[1;32m~\\anaconda3\\lib\\site-packages\\pandas\\core\\generic.py:3884\u001b[0m, in \u001b[0;36mNDFrame._take\u001b[1;34m(self, indices, axis, convert_indices)\u001b[0m\n\u001b[0;32m   3873\u001b[0m \u001b[38;5;28;01mdef\u001b[39;00m \u001b[38;5;21m_take\u001b[39m(\n\u001b[0;32m   3874\u001b[0m     \u001b[38;5;28mself\u001b[39m: NDFrameT,\n\u001b[0;32m   3875\u001b[0m     indices,\n\u001b[0;32m   3876\u001b[0m     axis\u001b[38;5;241m=\u001b[39m\u001b[38;5;241m0\u001b[39m,\n\u001b[0;32m   3877\u001b[0m     convert_indices: bool_t \u001b[38;5;241m=\u001b[39m \u001b[38;5;28;01mTrue\u001b[39;00m,\n\u001b[0;32m   3878\u001b[0m ) \u001b[38;5;241m-\u001b[39m\u001b[38;5;241m>\u001b[39m NDFrameT:\n\u001b[0;32m   3879\u001b[0m     \u001b[38;5;124;03m\"\"\"\u001b[39;00m\n\u001b[0;32m   3880\u001b[0m \u001b[38;5;124;03m    Internal version of the `take` allowing specification of additional args.\u001b[39;00m\n\u001b[0;32m   3881\u001b[0m \n\u001b[0;32m   3882\u001b[0m \u001b[38;5;124;03m    See the docstring of `take` for full explanation of the parameters.\u001b[39;00m\n\u001b[0;32m   3883\u001b[0m \u001b[38;5;124;03m    \"\"\"\u001b[39;00m\n\u001b[1;32m-> 3884\u001b[0m     \u001b[38;5;28;43mself\u001b[39;49m\u001b[38;5;241;43m.\u001b[39;49m\u001b[43m_consolidate_inplace\u001b[49m\u001b[43m(\u001b[49m\u001b[43m)\u001b[49m\n\u001b[0;32m   3886\u001b[0m     new_data \u001b[38;5;241m=\u001b[39m \u001b[38;5;28mself\u001b[39m\u001b[38;5;241m.\u001b[39m_mgr\u001b[38;5;241m.\u001b[39mtake(\n\u001b[0;32m   3887\u001b[0m         indices,\n\u001b[0;32m   3888\u001b[0m         axis\u001b[38;5;241m=\u001b[39m\u001b[38;5;28mself\u001b[39m\u001b[38;5;241m.\u001b[39m_get_block_manager_axis(axis),\n\u001b[0;32m   3889\u001b[0m         verify\u001b[38;5;241m=\u001b[39m\u001b[38;5;28;01mTrue\u001b[39;00m,\n\u001b[0;32m   3890\u001b[0m         convert_indices\u001b[38;5;241m=\u001b[39mconvert_indices,\n\u001b[0;32m   3891\u001b[0m     )\n\u001b[0;32m   3892\u001b[0m     \u001b[38;5;28;01mreturn\u001b[39;00m \u001b[38;5;28mself\u001b[39m\u001b[38;5;241m.\u001b[39m_constructor(new_data)\u001b[38;5;241m.\u001b[39m__finalize__(\u001b[38;5;28mself\u001b[39m, method\u001b[38;5;241m=\u001b[39m\u001b[38;5;124m\"\u001b[39m\u001b[38;5;124mtake\u001b[39m\u001b[38;5;124m\"\u001b[39m)\n",
      "File \u001b[1;32m~\\anaconda3\\lib\\site-packages\\pandas\\core\\generic.py:5980\u001b[0m, in \u001b[0;36mNDFrame._consolidate_inplace\u001b[1;34m(self)\u001b[0m\n\u001b[0;32m   5977\u001b[0m \u001b[38;5;28;01mdef\u001b[39;00m \u001b[38;5;21mf\u001b[39m():\n\u001b[0;32m   5978\u001b[0m     \u001b[38;5;28mself\u001b[39m\u001b[38;5;241m.\u001b[39m_mgr \u001b[38;5;241m=\u001b[39m \u001b[38;5;28mself\u001b[39m\u001b[38;5;241m.\u001b[39m_mgr\u001b[38;5;241m.\u001b[39mconsolidate()\n\u001b[1;32m-> 5980\u001b[0m \u001b[38;5;28;43mself\u001b[39;49m\u001b[38;5;241;43m.\u001b[39;49m\u001b[43m_protect_consolidate\u001b[49m\u001b[43m(\u001b[49m\u001b[43mf\u001b[49m\u001b[43m)\u001b[49m\n",
      "File \u001b[1;32m~\\anaconda3\\lib\\site-packages\\pandas\\core\\generic.py:5968\u001b[0m, in \u001b[0;36mNDFrame._protect_consolidate\u001b[1;34m(self, f)\u001b[0m\n\u001b[0;32m   5966\u001b[0m     \u001b[38;5;28;01mreturn\u001b[39;00m f()\n\u001b[0;32m   5967\u001b[0m blocks_before \u001b[38;5;241m=\u001b[39m \u001b[38;5;28mlen\u001b[39m(\u001b[38;5;28mself\u001b[39m\u001b[38;5;241m.\u001b[39m_mgr\u001b[38;5;241m.\u001b[39mblocks)\n\u001b[1;32m-> 5968\u001b[0m result \u001b[38;5;241m=\u001b[39m \u001b[43mf\u001b[49m\u001b[43m(\u001b[49m\u001b[43m)\u001b[49m\n\u001b[0;32m   5969\u001b[0m \u001b[38;5;28;01mif\u001b[39;00m \u001b[38;5;28mlen\u001b[39m(\u001b[38;5;28mself\u001b[39m\u001b[38;5;241m.\u001b[39m_mgr\u001b[38;5;241m.\u001b[39mblocks) \u001b[38;5;241m!=\u001b[39m blocks_before:\n\u001b[0;32m   5970\u001b[0m     \u001b[38;5;28mself\u001b[39m\u001b[38;5;241m.\u001b[39m_clear_item_cache()\n",
      "File \u001b[1;32m~\\anaconda3\\lib\\site-packages\\pandas\\core\\generic.py:5978\u001b[0m, in \u001b[0;36mNDFrame._consolidate_inplace.<locals>.f\u001b[1;34m()\u001b[0m\n\u001b[0;32m   5977\u001b[0m \u001b[38;5;28;01mdef\u001b[39;00m \u001b[38;5;21mf\u001b[39m():\n\u001b[1;32m-> 5978\u001b[0m     \u001b[38;5;28mself\u001b[39m\u001b[38;5;241m.\u001b[39m_mgr \u001b[38;5;241m=\u001b[39m \u001b[38;5;28;43mself\u001b[39;49m\u001b[38;5;241;43m.\u001b[39;49m\u001b[43m_mgr\u001b[49m\u001b[38;5;241;43m.\u001b[39;49m\u001b[43mconsolidate\u001b[49m\u001b[43m(\u001b[49m\u001b[43m)\u001b[49m\n",
      "File \u001b[1;32m~\\anaconda3\\lib\\site-packages\\pandas\\core\\internals\\managers.py:686\u001b[0m, in \u001b[0;36mBaseBlockManager.consolidate\u001b[1;34m(self)\u001b[0m\n\u001b[0;32m    684\u001b[0m bm \u001b[38;5;241m=\u001b[39m \u001b[38;5;28mtype\u001b[39m(\u001b[38;5;28mself\u001b[39m)(\u001b[38;5;28mself\u001b[39m\u001b[38;5;241m.\u001b[39mblocks, \u001b[38;5;28mself\u001b[39m\u001b[38;5;241m.\u001b[39maxes, \u001b[38;5;28mself\u001b[39m\u001b[38;5;241m.\u001b[39mrefs, verify_integrity\u001b[38;5;241m=\u001b[39m\u001b[38;5;28;01mFalse\u001b[39;00m)\n\u001b[0;32m    685\u001b[0m bm\u001b[38;5;241m.\u001b[39m_is_consolidated \u001b[38;5;241m=\u001b[39m \u001b[38;5;28;01mFalse\u001b[39;00m\n\u001b[1;32m--> 686\u001b[0m \u001b[43mbm\u001b[49m\u001b[38;5;241;43m.\u001b[39;49m\u001b[43m_consolidate_inplace\u001b[49m\u001b[43m(\u001b[49m\u001b[43m)\u001b[49m\n\u001b[0;32m    687\u001b[0m \u001b[38;5;28;01mreturn\u001b[39;00m bm\n",
      "File \u001b[1;32m~\\anaconda3\\lib\\site-packages\\pandas\\core\\internals\\managers.py:1873\u001b[0m, in \u001b[0;36mBlockManager._consolidate_inplace\u001b[1;34m(self)\u001b[0m\n\u001b[0;32m   1871\u001b[0m     \u001b[38;5;28mself\u001b[39m\u001b[38;5;241m.\u001b[39mblocks \u001b[38;5;241m=\u001b[39m _consolidate(\u001b[38;5;28mself\u001b[39m\u001b[38;5;241m.\u001b[39mblocks)\n\u001b[0;32m   1872\u001b[0m \u001b[38;5;28;01melse\u001b[39;00m:\n\u001b[1;32m-> 1873\u001b[0m     \u001b[38;5;28mself\u001b[39m\u001b[38;5;241m.\u001b[39mblocks, \u001b[38;5;28mself\u001b[39m\u001b[38;5;241m.\u001b[39mrefs \u001b[38;5;241m=\u001b[39m \u001b[43m_consolidate_with_refs\u001b[49m\u001b[43m(\u001b[49m\u001b[38;5;28;43mself\u001b[39;49m\u001b[38;5;241;43m.\u001b[39;49m\u001b[43mblocks\u001b[49m\u001b[43m,\u001b[49m\u001b[43m \u001b[49m\u001b[38;5;28;43mself\u001b[39;49m\u001b[38;5;241;43m.\u001b[39;49m\u001b[43mrefs\u001b[49m\u001b[43m)\u001b[49m\n\u001b[0;32m   1874\u001b[0m \u001b[38;5;28mself\u001b[39m\u001b[38;5;241m.\u001b[39m_is_consolidated \u001b[38;5;241m=\u001b[39m \u001b[38;5;28;01mTrue\u001b[39;00m\n\u001b[0;32m   1875\u001b[0m \u001b[38;5;28mself\u001b[39m\u001b[38;5;241m.\u001b[39m_known_consolidated \u001b[38;5;241m=\u001b[39m \u001b[38;5;28;01mTrue\u001b[39;00m\n",
      "File \u001b[1;32m~\\anaconda3\\lib\\site-packages\\pandas\\core\\internals\\managers.py:2350\u001b[0m, in \u001b[0;36m_consolidate_with_refs\u001b[1;34m(blocks, refs)\u001b[0m\n\u001b[0;32m   2348\u001b[0m \u001b[38;5;28;01mfor\u001b[39;00m (_can_consolidate, dtype), group_blocks_refs \u001b[38;5;129;01min\u001b[39;00m grouper:\n\u001b[0;32m   2349\u001b[0m     group_blocks, group_refs \u001b[38;5;241m=\u001b[39m \u001b[38;5;28mlist\u001b[39m(\u001b[38;5;28mzip\u001b[39m(\u001b[38;5;241m*\u001b[39m\u001b[38;5;28mlist\u001b[39m(group_blocks_refs)))\n\u001b[1;32m-> 2350\u001b[0m     merged_blocks, consolidated \u001b[38;5;241m=\u001b[39m \u001b[43m_merge_blocks\u001b[49m\u001b[43m(\u001b[49m\n\u001b[0;32m   2351\u001b[0m \u001b[43m        \u001b[49m\u001b[38;5;28;43mlist\u001b[39;49m\u001b[43m(\u001b[49m\u001b[43mgroup_blocks\u001b[49m\u001b[43m)\u001b[49m\u001b[43m,\u001b[49m\u001b[43m \u001b[49m\u001b[43mdtype\u001b[49m\u001b[38;5;241;43m=\u001b[39;49m\u001b[43mdtype\u001b[49m\u001b[43m,\u001b[49m\u001b[43m \u001b[49m\u001b[43mcan_consolidate\u001b[49m\u001b[38;5;241;43m=\u001b[39;49m\u001b[43m_can_consolidate\u001b[49m\n\u001b[0;32m   2352\u001b[0m \u001b[43m    \u001b[49m\u001b[43m)\u001b[49m\n\u001b[0;32m   2353\u001b[0m     new_blocks \u001b[38;5;241m=\u001b[39m extend_blocks(merged_blocks, new_blocks)\n\u001b[0;32m   2354\u001b[0m     \u001b[38;5;28;01mif\u001b[39;00m consolidated:\n",
      "File \u001b[1;32m~\\anaconda3\\lib\\site-packages\\pandas\\core\\internals\\managers.py:2381\u001b[0m, in \u001b[0;36m_merge_blocks\u001b[1;34m(blocks, dtype, can_consolidate)\u001b[0m\n\u001b[0;32m   2374\u001b[0m new_values: ArrayLike\n\u001b[0;32m   2376\u001b[0m \u001b[38;5;28;01mif\u001b[39;00m \u001b[38;5;28misinstance\u001b[39m(blocks[\u001b[38;5;241m0\u001b[39m]\u001b[38;5;241m.\u001b[39mdtype, np\u001b[38;5;241m.\u001b[39mdtype):\n\u001b[0;32m   2377\u001b[0m     \u001b[38;5;66;03m# error: List comprehension has incompatible type List[Union[ndarray,\u001b[39;00m\n\u001b[0;32m   2378\u001b[0m     \u001b[38;5;66;03m# ExtensionArray]]; expected List[Union[complex, generic,\u001b[39;00m\n\u001b[0;32m   2379\u001b[0m     \u001b[38;5;66;03m# Sequence[Union[int, float, complex, str, bytes, generic]],\u001b[39;00m\n\u001b[0;32m   2380\u001b[0m     \u001b[38;5;66;03m# Sequence[Sequence[Any]], SupportsArray]]\u001b[39;00m\n\u001b[1;32m-> 2381\u001b[0m     new_values \u001b[38;5;241m=\u001b[39m \u001b[43mnp\u001b[49m\u001b[38;5;241;43m.\u001b[39;49m\u001b[43mvstack\u001b[49m\u001b[43m(\u001b[49m\u001b[43m[\u001b[49m\u001b[43mb\u001b[49m\u001b[38;5;241;43m.\u001b[39;49m\u001b[43mvalues\u001b[49m\u001b[43m \u001b[49m\u001b[38;5;28;43;01mfor\u001b[39;49;00m\u001b[43m \u001b[49m\u001b[43mb\u001b[49m\u001b[43m \u001b[49m\u001b[38;5;129;43;01min\u001b[39;49;00m\u001b[43m \u001b[49m\u001b[43mblocks\u001b[49m\u001b[43m]\u001b[49m\u001b[43m)\u001b[49m  \u001b[38;5;66;03m# type: ignore[misc]\u001b[39;00m\n\u001b[0;32m   2382\u001b[0m \u001b[38;5;28;01melse\u001b[39;00m:\n\u001b[0;32m   2383\u001b[0m     bvals \u001b[38;5;241m=\u001b[39m [blk\u001b[38;5;241m.\u001b[39mvalues \u001b[38;5;28;01mfor\u001b[39;00m blk \u001b[38;5;129;01min\u001b[39;00m blocks]\n",
      "File \u001b[1;32m<__array_function__ internals>:180\u001b[0m, in \u001b[0;36mvstack\u001b[1;34m(*args, **kwargs)\u001b[0m\n",
      "File \u001b[1;32m~\\anaconda3\\lib\\site-packages\\numpy\\core\\shape_base.py:282\u001b[0m, in \u001b[0;36mvstack\u001b[1;34m(tup)\u001b[0m\n\u001b[0;32m    280\u001b[0m \u001b[38;5;28;01mif\u001b[39;00m \u001b[38;5;129;01mnot\u001b[39;00m \u001b[38;5;28misinstance\u001b[39m(arrs, \u001b[38;5;28mlist\u001b[39m):\n\u001b[0;32m    281\u001b[0m     arrs \u001b[38;5;241m=\u001b[39m [arrs]\n\u001b[1;32m--> 282\u001b[0m \u001b[38;5;28;01mreturn\u001b[39;00m \u001b[43m_nx\u001b[49m\u001b[38;5;241;43m.\u001b[39;49m\u001b[43mconcatenate\u001b[49m\u001b[43m(\u001b[49m\u001b[43marrs\u001b[49m\u001b[43m,\u001b[49m\u001b[43m \u001b[49m\u001b[38;5;241;43m0\u001b[39;49m\u001b[43m)\u001b[49m\n",
      "File \u001b[1;32m<__array_function__ internals>:180\u001b[0m, in \u001b[0;36mconcatenate\u001b[1;34m(*args, **kwargs)\u001b[0m\n",
      "\u001b[1;31mMemoryError\u001b[0m: Unable to allocate 989. MiB for an array with shape (4, 32404859) and data type float64"
     ]
    }
   ],
   "source": [
    "##small sample\n",
    "small = df_concat[~dev]"
   ]
  },
  {
   "cell_type": "code",
   "execution_count": 10,
   "id": "4970c22f",
   "metadata": {},
   "outputs": [
    {
     "data": {
      "text/plain": [
       "user_id                     int32\n",
       "first_name                 object\n",
       "last_name                  object\n",
       "Gender                     object\n",
       "STATE                      object\n",
       "Age                         int16\n",
       "date_joined                object\n",
       "n_dependants                 int8\n",
       "fam_status                 object\n",
       "income                      int32\n",
       "order_id                    int32\n",
       "order_number                int16\n",
       "orders_day_of_week           int8\n",
       "order_hour_of_day            int8\n",
       "days_since_last_order     float32\n",
       "product_id                  int16\n",
       "add_to_cart_order           int16\n",
       "reordered                    int8\n",
       "product_name               object\n",
       "aisle_id                    int16\n",
       "department_id                int8\n",
       "prices                    float32\n",
       "price_range_loc            object\n",
       "busiest_day                object\n",
       "Busiest_days               object\n",
       "busiest_period_of_day      object\n",
       "max_order                   int16\n",
       "loyalty_flag               object\n",
       "mean_price                float32\n",
       "spending_flag              object\n",
       "median_days_last_order    float32\n",
       "frequency_flag             object\n",
       "dtype: object"
      ]
     },
     "execution_count": 10,
     "metadata": {},
     "output_type": "execute_result"
    }
   ],
   "source": [
    "df_concat.dtypes"
   ]
  },
  {
   "cell_type": "code",
   "execution_count": 11,
   "id": "5cb19cb2",
   "metadata": {},
   "outputs": [],
   "source": [
    "#export second\n",
    "df_concat.to_pickle(os.path.join(path, '02 Data','Prepared Data', 'full_file.pkl'))"
   ]
  },
  {
   "cell_type": "code",
   "execution_count": null,
   "id": "109cfeb6",
   "metadata": {},
   "outputs": [],
   "source": []
  }
 ],
 "metadata": {
  "kernelspec": {
   "display_name": "Python 3 (ipykernel)",
   "language": "python",
   "name": "python3"
  },
  "language_info": {
   "codemirror_mode": {
    "name": "ipython",
    "version": 3
   },
   "file_extension": ".py",
   "mimetype": "text/x-python",
   "name": "python",
   "nbconvert_exporter": "python",
   "pygments_lexer": "ipython3",
   "version": "3.10.9"
  }
 },
 "nbformat": 4,
 "nbformat_minor": 5
}
